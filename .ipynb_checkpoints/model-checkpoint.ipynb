{
 "cells": [
  {
   "cell_type": "code",
   "execution_count": 180,
   "metadata": {},
   "outputs": [],
   "source": [
    "import os\n",
    "import sys\n",
    "import math\n",
    "import pandas as pd\n",
    "import numpy as np\n",
    "import matplotlib.pyplot as plt\n",
    "from sklearn.metrics import mean_squared_error"
   ]
  },
  {
   "cell_type": "code",
   "execution_count": 181,
   "metadata": {},
   "outputs": [],
   "source": [
    "daily_data = pd.read_csv('data/daily.csv')\n",
    "govt_measures = pd.read_excel('data/acaps_covid19_government_measures_dataset.xlsx', sheet_name='Database')\n",
    "daily_tests = pd.read_csv('data/full-list-covid-19-tests-per-day.csv')\n",
    "lockdown_data = pd.read_excel('data/lockdown_data.xlsx')"
   ]
  },
  {
   "cell_type": "code",
   "execution_count": 182,
   "metadata": {},
   "outputs": [],
   "source": [
    "daily_data.sort_values('date',inplace=True)"
   ]
  },
  {
   "cell_type": "code",
   "execution_count": 183,
   "metadata": {},
   "outputs": [
    {
     "data": {
      "text/html": [
       "<div>\n",
       "<style scoped>\n",
       "    .dataframe tbody tr th:only-of-type {\n",
       "        vertical-align: middle;\n",
       "    }\n",
       "\n",
       "    .dataframe tbody tr th {\n",
       "        vertical-align: top;\n",
       "    }\n",
       "\n",
       "    .dataframe thead th {\n",
       "        text-align: right;\n",
       "    }\n",
       "</style>\n",
       "<table border=\"1\" class=\"dataframe\">\n",
       "  <thead>\n",
       "    <tr style=\"text-align: right;\">\n",
       "      <th></th>\n",
       "      <th>date</th>\n",
       "      <th>is_lockdown</th>\n",
       "    </tr>\n",
       "  </thead>\n",
       "  <tbody>\n",
       "    <tr>\n",
       "      <th>0</th>\n",
       "      <td>2020-01-22</td>\n",
       "      <td>0</td>\n",
       "    </tr>\n",
       "    <tr>\n",
       "      <th>1</th>\n",
       "      <td>2020-01-23</td>\n",
       "      <td>0</td>\n",
       "    </tr>\n",
       "    <tr>\n",
       "      <th>2</th>\n",
       "      <td>2020-01-24</td>\n",
       "      <td>0</td>\n",
       "    </tr>\n",
       "    <tr>\n",
       "      <th>3</th>\n",
       "      <td>2020-01-25</td>\n",
       "      <td>0</td>\n",
       "    </tr>\n",
       "    <tr>\n",
       "      <th>4</th>\n",
       "      <td>2020-01-26</td>\n",
       "      <td>0</td>\n",
       "    </tr>\n",
       "  </tbody>\n",
       "</table>\n",
       "</div>"
      ],
      "text/plain": [
       "        date  is_lockdown\n",
       "0 2020-01-22            0\n",
       "1 2020-01-23            0\n",
       "2 2020-01-24            0\n",
       "3 2020-01-25            0\n",
       "4 2020-01-26            0"
      ]
     },
     "execution_count": 183,
     "metadata": {},
     "output_type": "execute_result"
    }
   ],
   "source": [
    "lockdown_data.head()"
   ]
  },
  {
   "cell_type": "code",
   "execution_count": 184,
   "metadata": {},
   "outputs": [],
   "source": [
    "# Convert date to datetime object \n",
    "daily_data['date'] = pd.to_datetime(daily_data['date'], format='%Y%m%d')\n",
    "daily_tests['Date'] = pd.to_datetime(daily_tests['Date'], format='%b %d, %Y')"
   ]
  },
  {
   "cell_type": "code",
   "execution_count": 185,
   "metadata": {},
   "outputs": [],
   "source": [
    "# Filter only for United States\n",
    "govt_measures = govt_measures[govt_measures['COUNTRY'] == 'United States of America']\n",
    "daily_tests = daily_tests[daily_tests['Entity'] == 'United States']"
   ]
  },
  {
   "cell_type": "code",
   "execution_count": 186,
   "metadata": {},
   "outputs": [],
   "source": [
    "#daily_data.merge(govt_measures, left_on='date', right_on='DATE_IMPLEMENTED', how='left')"
   ]
  },
  {
   "cell_type": "code",
   "execution_count": 187,
   "metadata": {},
   "outputs": [],
   "source": [
    "daily_data = daily_data.merge(daily_tests, left_on='date', right_on='Date', how='left')\n",
    "daily_data = daily_data.merge(lockdown_data, on='date', how='left')"
   ]
  },
  {
   "cell_type": "code",
   "execution_count": 188,
   "metadata": {},
   "outputs": [
    {
     "data": {
      "text/plain": [
       "Index(['date', 'states', 'positive', 'negative', 'pending',\n",
       "       'hospitalizedCurrently', 'hospitalizedCumulative', 'inIcuCurrently',\n",
       "       'inIcuCumulative', 'onVentilatorCurrently', 'onVentilatorCumulative',\n",
       "       'recovered', 'dateChecked', 'death', 'hospitalized', 'lastModified',\n",
       "       'total', 'totalTestResults', 'posNeg', 'deathIncrease',\n",
       "       'hospitalizedIncrease', 'negativeIncrease', 'positiveIncrease',\n",
       "       'totalTestResultsIncrease', 'hash', 'Entity', 'Code', 'Date',\n",
       "       'New tests', 'is_lockdown'],\n",
       "      dtype='object')"
      ]
     },
     "execution_count": 188,
     "metadata": {},
     "output_type": "execute_result"
    }
   ],
   "source": [
    "daily_data.columns"
   ]
  },
  {
   "cell_type": "code",
   "execution_count": 189,
   "metadata": {},
   "outputs": [],
   "source": [
    "feature_names = ['date','positive','totalTestResultsIncrease','is_lockdown']\n",
    "daily_data = daily_data[feature_names]"
   ]
  },
  {
   "cell_type": "code",
   "execution_count": 190,
   "metadata": {},
   "outputs": [],
   "source": [
    "x = daily_data.copy()\n",
    "x.index = x.date\n",
    "x.drop('date',axis=1,inplace=True)"
   ]
  },
  {
   "cell_type": "code",
   "execution_count": 191,
   "metadata": {},
   "outputs": [],
   "source": [
    "train = x[:int(0.8*(len(x)))]\n",
    "valid = x[int(0.8*(len(x))):]"
   ]
  },
  {
   "cell_type": "markdown",
   "metadata": {},
   "source": [
    "### Model 1 (VAR)"
   ]
  },
  {
   "cell_type": "code",
   "execution_count": 192,
   "metadata": {},
   "outputs": [
    {
     "name": "stderr",
     "output_type": "stream",
     "text": [
      "/Users/anuragsharma/anaconda3/lib/python3.6/site-packages/statsmodels/tsa/base/tsa_model.py:171: ValueWarning: No frequency information was provided, so inferred frequency D will be used.\n",
      "  % freq, ValueWarning)\n"
     ]
    }
   ],
   "source": [
    "from statsmodels.tsa.vector_ar.var_model import VAR\n",
    "\n",
    "model = VAR(endog=train)\n",
    "model_fit = model.fit()"
   ]
  },
  {
   "cell_type": "code",
   "execution_count": 193,
   "metadata": {},
   "outputs": [],
   "source": [
    "prediction = model_fit.forecast(model_fit.y, steps=len(valid))"
   ]
  },
  {
   "cell_type": "code",
   "execution_count": 194,
   "metadata": {},
   "outputs": [
    {
     "name": "stdout",
     "output_type": "stream",
     "text": [
      "rmse value for Positive cases is :  2525162.8894189424\n"
     ]
    }
   ],
   "source": [
    "pred = pd.DataFrame(index=range(0,len(prediction)),columns=[cols])\n",
    "for j in range(0,2):\n",
    "    for i in range(0, len(prediction)):\n",
    "       pred.iloc[i][j] = prediction[i][j]\n",
    "\n",
    "#check rmse\n",
    "#for i in cols:\n",
    "print('rmse value for Positive cases is : ', math.sqrt(mean_squared_error(pred['positive'], valid['positive'])))"
   ]
  },
  {
   "cell_type": "code",
   "execution_count": 195,
   "metadata": {},
   "outputs": [
    {
     "name": "stdout",
     "output_type": "stream",
     "text": [
      "[[ 4.15777044e+06  9.29931276e+05 -1.00754353e-02]\n",
      " [ 4.22325529e+06  9.38216676e+05 -2.31065718e-02]\n",
      " [ 4.28951852e+06  9.50008516e+05 -3.74527781e-02]\n",
      " [ 4.35662356e+06  9.63365599e+05 -5.24357461e-02]\n",
      " [ 4.42460384e+06  9.77484618e+05 -6.77761586e-02]\n",
      " [ 4.49348044e+06  9.92034058e+05 -8.33601306e-02]\n",
      " [ 4.56326944e+06  1.00687803e+06 -9.91423763e-02]\n",
      " [ 4.63398491e+06  1.02196178e+06 -1.15106062e-01]\n",
      " [ 4.70564021e+06  1.03726419e+06 -1.31246160e-01]\n",
      " [ 4.77824848e+06  1.05277816e+06 -1.47562550e-01]\n",
      " [ 4.85182289e+06  1.06850235e+06 -1.64057161e-01]\n",
      " [ 4.92637670e+06  1.08443789e+06 -1.80732778e-01]\n",
      " [ 5.00192333e+06  1.10058694e+06 -1.97592561e-01]\n",
      " [ 5.07847636e+06  1.11695209e+06 -2.14639833e-01]\n",
      " [ 5.15604953e+06  1.13353615e+06 -2.31878003e-01]\n",
      " [ 5.23465677e+06  1.15034205e+06 -2.49310527e-01]\n",
      " [ 5.31431220e+06  1.16737277e+06 -2.66940899e-01]\n",
      " [ 5.39503010e+06  1.18463135e+06 -2.84772642e-01]\n",
      " [ 5.47682496e+06  1.20212088e+06 -3.02809306e-01]\n",
      " [ 5.55971146e+06  1.21984449e+06 -3.21054472e-01]\n",
      " [ 5.64370444e+06  1.23780534e+06 -3.39511749e-01]\n",
      " [ 5.72881898e+06  1.25600665e+06 -3.58184774e-01]\n",
      " [ 5.81507032e+06  1.27445167e+06 -3.77077217e-01]\n",
      " [ 5.90247393e+06  1.29314371e+06 -3.96192777e-01]\n",
      " [ 5.99104547e+06  1.31208611e+06 -4.15535186e-01]\n",
      " [ 6.08080081e+06  1.33128225e+06 -4.35108207e-01]\n",
      " [ 6.17175601e+06  1.35073557e+06 -4.54915640e-01]\n",
      " [ 6.26392738e+06  1.37044955e+06 -4.74961317e-01]\n",
      " [ 6.35733142e+06  1.39042770e+06 -4.95249105e-01]\n",
      " [ 6.45198485e+06  1.41067361e+06 -5.15782909e-01]]\n"
     ]
    },
    {
     "name": "stderr",
     "output_type": "stream",
     "text": [
      "/Users/anuragsharma/anaconda3/lib/python3.6/site-packages/statsmodels/tsa/base/tsa_model.py:171: ValueWarning: No frequency information was provided, so inferred frequency D will be used.\n",
      "  % freq, ValueWarning)\n"
     ]
    }
   ],
   "source": [
    "model = VAR(endog=x)\n",
    "model_fit = model.fit()\n",
    "yhat = model_fit.forecast(model_fit.y, steps=30)\n",
    "print(yhat)"
   ]
  },
  {
   "cell_type": "code",
   "execution_count": 196,
   "metadata": {},
   "outputs": [],
   "source": [
    "forecast = []\n",
    "for i in yhat:\n",
    "    forecast.append(i[0])"
   ]
  },
  {
   "cell_type": "code",
   "execution_count": 197,
   "metadata": {},
   "outputs": [
    {
     "data": {
      "text/plain": [
       "<matplotlib.axes._subplots.AxesSubplot at 0x116e50b00>"
      ]
     },
     "execution_count": 197,
     "metadata": {},
     "output_type": "execute_result"
    },
    {
     "data": {
      "image/png": "[encoded data removed]",
      "text/plain": [
       "<Figure size 432x288 with 1 Axes>"
      ]
     },
     "metadata": {
      "needs_background": "light"
     },
     "output_type": "display_data"
    }
   ],
   "source": [
    "pd.Series(forecast).plot()"
   ]
  },
  {
   "cell_type": "code",
   "execution_count": 198,
   "metadata": {},
   "outputs": [
    {
     "data": {
      "text/plain": [
       "DatetimeIndex(['2020-07-25', '2020-07-26', '2020-07-27', '2020-07-28',\n",
       "               '2020-07-29', '2020-07-30', '2020-07-31', '2020-08-01',\n",
       "               '2020-08-02', '2020-08-03', '2020-08-04', '2020-08-05',\n",
       "               '2020-08-06', '2020-08-07', '2020-08-08', '2020-08-09',\n",
       "               '2020-08-10', '2020-08-11', '2020-08-12', '2020-08-13',\n",
       "               '2020-08-14', '2020-08-15', '2020-08-16', '2020-08-17',\n",
       "               '2020-08-18', '2020-08-19', '2020-08-20', '2020-08-21',\n",
       "               '2020-08-22', '2020-08-23'],\n",
       "              dtype='datetime64[ns]', freq='D')"
      ]
     },
     "execution_count": 198,
     "metadata": {},
     "output_type": "execute_result"
    }
   ],
   "source": [
    "pd.date_range(start='25/7/2020', periods=30)"
   ]
  },
  {
   "cell_type": "code",
   "execution_count": 199,
   "metadata": {},
   "outputs": [],
   "source": [
    "# result output\n",
    "result = pd.DataFrame()\n",
    "result['date'] = pd.date_range(start='25/7/2020', periods=30)\n",
    "result['number_of_positives'] = forecast"
   ]
  },
  {
   "cell_type": "code",
   "execution_count": 200,
   "metadata": {},
   "outputs": [],
   "source": [
    "result = result[(result['date'] >= '27/7/2020') & (result['date'] <= '15/8/2020')]\n",
    "result.to_csv('result.csv',index=False)"
   ]
  },
  {
   "cell_type": "markdown",
   "metadata": {},
   "source": [
    "### Model 2 (ARIMAX)"
   ]
  },
  {
   "cell_type": "code",
   "execution_count": 201,
   "metadata": {},
   "outputs": [
    {
     "name": "stderr",
     "output_type": "stream",
     "text": [
      "/Users/anuragsharma/anaconda3/lib/python3.6/site-packages/statsmodels/tsa/base/tsa_model.py:171: ValueWarning: No frequency information was provided, so inferred frequency D will be used.\n",
      "  % freq, ValueWarning)\n",
      "/Users/anuragsharma/anaconda3/lib/python3.6/site-packages/statsmodels/tsa/base/tsa_model.py:171: ValueWarning: No frequency information was provided, so inferred frequency D will be used.\n",
      "  % freq, ValueWarning)\n"
     ]
    }
   ],
   "source": [
    "from statsmodels.tsa.arima_model import ARIMA\n",
    "\n",
    "model = ARIMA(train.positive, exog=train.totalTestResultsIncrease, order=(1,1,1))\n",
    "model_fit = model.fit()"
   ]
  },
  {
   "cell_type": "code",
   "execution_count": 202,
   "metadata": {},
   "outputs": [
    {
     "data": {
      "text/html": [
       "<table class=\"simpletable\">\n",
       "<caption>ARIMA Model Results</caption>\n",
       "<tr>\n",
       "  <th>Dep. Variable:</th>    <td>D.positive</td>    <th>  No. Observations:  </th>    <td>147</td>   \n",
       "</tr>\n",
       "<tr>\n",
       "  <th>Model:</th>          <td>ARIMA(1, 1, 1)</td>  <th>  Log Likelihood     </th> <td>-1331.383</td>\n",
       "</tr>\n",
       "<tr>\n",
       "  <th>Method:</th>             <td>css-mle</td>     <th>  S.D. of innovations</th> <td>2052.785</td> \n",
       "</tr>\n",
       "<tr>\n",
       "  <th>Date:</th>          <td>Mon, 27 Jul 2020</td> <th>  AIC                </th> <td>2672.766</td> \n",
       "</tr>\n",
       "<tr>\n",
       "  <th>Time:</th>              <td>00:11:52</td>     <th>  BIC                </th> <td>2687.718</td> \n",
       "</tr>\n",
       "<tr>\n",
       "  <th>Sample:</th>           <td>01-23-2020</td>    <th>  HQIC               </th> <td>2678.841</td> \n",
       "</tr>\n",
       "<tr>\n",
       "  <th></th>                 <td>- 06-17-2020</td>   <th>                     </th>     <td> </td>    \n",
       "</tr>\n",
       "</table>\n",
       "<table class=\"simpletable\">\n",
       "<tr>\n",
       "              <td></td>                <th>coef</th>     <th>std err</th>      <th>z</th>      <th>P>|z|</th>  <th>[0.025</th>    <th>0.975]</th>  \n",
       "</tr>\n",
       "<tr>\n",
       "  <th>const</th>                    <td> 6184.8158</td> <td> 8704.390</td> <td>    0.711</td> <td> 0.479</td> <td>-1.09e+04</td> <td> 2.32e+04</td>\n",
       "</tr>\n",
       "<tr>\n",
       "  <th>totalTestResultsIncrease</th> <td>    0.0200</td> <td>    0.005</td> <td>    4.204</td> <td> 0.000</td> <td>    0.011</td> <td>    0.029</td>\n",
       "</tr>\n",
       "<tr>\n",
       "  <th>ar.L1.D.positive</th>         <td>    0.9780</td> <td>    0.019</td> <td>   50.496</td> <td> 0.000</td> <td>    0.940</td> <td>    1.016</td>\n",
       "</tr>\n",
       "<tr>\n",
       "  <th>ma.L1.D.positive</th>         <td>    0.0706</td> <td>    0.095</td> <td>    0.745</td> <td> 0.457</td> <td>   -0.115</td> <td>    0.256</td>\n",
       "</tr>\n",
       "</table>\n",
       "<table class=\"simpletable\">\n",
       "<caption>Roots</caption>\n",
       "<tr>\n",
       "    <td></td>   <th>            Real</th>  <th>         Imaginary</th> <th>         Modulus</th>  <th>        Frequency</th>\n",
       "</tr>\n",
       "<tr>\n",
       "  <th>AR.1</th> <td>           1.0225</td> <td>          +0.0000j</td> <td>           1.0225</td> <td>           0.0000</td>\n",
       "</tr>\n",
       "<tr>\n",
       "  <th>MA.1</th> <td>         -14.1617</td> <td>          +0.0000j</td> <td>          14.1617</td> <td>           0.5000</td>\n",
       "</tr>\n",
       "</table>"
      ],
      "text/plain": [
       "<class 'statsmodels.iolib.summary.Summary'>\n",
       "\"\"\"\n",
       "                             ARIMA Model Results                              \n",
       "==============================================================================\n",
       "Dep. Variable:             D.positive   No. Observations:                  147\n",
       "Model:                 ARIMA(1, 1, 1)   Log Likelihood               -1331.383\n",
       "Method:                       css-mle   S.D. of innovations           2052.785\n",
       "Date:                Mon, 27 Jul 2020   AIC                           2672.766\n",
       "Time:                        00:11:52   BIC                           2687.718\n",
       "Sample:                    01-23-2020   HQIC                          2678.841\n",
       "                         - 06-17-2020                                         \n",
       "============================================================================================\n",
       "                               coef    std err          z      P>|z|      [0.025      0.975]\n",
       "--------------------------------------------------------------------------------------------\n",
       "const                     6184.8158   8704.390      0.711      0.479   -1.09e+04    2.32e+04\n",
       "totalTestResultsIncrease     0.0200      0.005      4.204      0.000       0.011       0.029\n",
       "ar.L1.D.positive             0.9780      0.019     50.496      0.000       0.940       1.016\n",
       "ma.L1.D.positive             0.0706      0.095      0.745      0.457      -0.115       0.256\n",
       "                                    Roots                                    \n",
       "=============================================================================\n",
       "                  Real          Imaginary           Modulus         Frequency\n",
       "-----------------------------------------------------------------------------\n",
       "AR.1            1.0225           +0.0000j            1.0225            0.0000\n",
       "MA.1          -14.1617           +0.0000j           14.1617            0.5000\n",
       "-----------------------------------------------------------------------------\n",
       "\"\"\""
      ]
     },
     "execution_count": 202,
     "metadata": {},
     "output_type": "execute_result"
    }
   ],
   "source": [
    "model_fit.summary()"
   ]
  },
  {
   "cell_type": "code",
   "execution_count": null,
   "metadata": {},
   "outputs": [],
   "source": []
  }
 ],
 "metadata": {
  "kernelspec": {
   "display_name": "Python 3",
   "language": "python",
   "name": "python3"
  },
  "language_info": {
   "codemirror_mode": {
    "name": "ipython",
    "version": 3
   },
   "file_extension": ".py",
   "mimetype": "text/x-python",
   "name": "python",
   "nbconvert_exporter": "python",
   "pygments_lexer": "ipython3",
   "version": "3.6.5"
  }
 },
 "nbformat": 4,
 "nbformat_minor": 2
}
