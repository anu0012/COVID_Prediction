{
 "cells": [
  {
   "cell_type": "code",
   "execution_count": 27,
   "metadata": {},
   "outputs": [],
   "source": [
    "import os\n",
    "import sys\n",
    "import pandas as pd\n",
    "import numpy as np"
   ]
  },
  {
   "cell_type": "code",
   "execution_count": 28,
   "metadata": {},
   "outputs": [],
   "source": [
    "daily_data = pd.read_csv('data/daily.csv')\n",
    "govt_measures = pd.read_excel('data/acaps_covid19_government_measures_dataset.xlsx', sheet_name='Database')"
   ]
  },
  {
   "cell_type": "code",
   "execution_count": 29,
   "metadata": {},
   "outputs": [],
   "source": [
    "# Convert date to datetime object \n",
    "daily_data['date'] = pd.to_datetime(daily_data['date'], format='%Y%m%d')"
   ]
  },
  {
   "cell_type": "code",
   "execution_count": 30,
   "metadata": {},
   "outputs": [
    {
     "data": {
      "text/html": [
       "<div>\n",
       "<style scoped>\n",
       "    .dataframe tbody tr th:only-of-type {\n",
       "        vertical-align: middle;\n",
       "    }\n",
       "\n",
       "    .dataframe tbody tr th {\n",
       "        vertical-align: top;\n",
       "    }\n",
       "\n",
       "    .dataframe thead th {\n",
       "        text-align: right;\n",
       "    }\n",
       "</style>\n",
       "<table border=\"1\" class=\"dataframe\">\n",
       "  <thead>\n",
       "    <tr style=\"text-align: right;\">\n",
       "      <th></th>\n",
       "      <th>date</th>\n",
       "      <th>states</th>\n",
       "      <th>positive</th>\n",
       "      <th>negative</th>\n",
       "      <th>pending</th>\n",
       "      <th>hospitalizedCurrently</th>\n",
       "      <th>hospitalizedCumulative</th>\n",
       "      <th>inIcuCurrently</th>\n",
       "      <th>inIcuCumulative</th>\n",
       "      <th>onVentilatorCurrently</th>\n",
       "      <th>...</th>\n",
       "      <th>lastModified</th>\n",
       "      <th>total</th>\n",
       "      <th>totalTestResults</th>\n",
       "      <th>posNeg</th>\n",
       "      <th>deathIncrease</th>\n",
       "      <th>hospitalizedIncrease</th>\n",
       "      <th>negativeIncrease</th>\n",
       "      <th>positiveIncrease</th>\n",
       "      <th>totalTestResultsIncrease</th>\n",
       "      <th>hash</th>\n",
       "    </tr>\n",
       "  </thead>\n",
       "  <tbody>\n",
       "    <tr>\n",
       "      <th>0</th>\n",
       "      <td>2020-07-24</td>\n",
       "      <td>56</td>\n",
       "      <td>4092928</td>\n",
       "      <td>45745166</td>\n",
       "      <td>3409.0</td>\n",
       "      <td>59670.0</td>\n",
       "      <td>289355.0</td>\n",
       "      <td>10288.0</td>\n",
       "      <td>13182.0</td>\n",
       "      <td>2712.0</td>\n",
       "      <td>...</td>\n",
       "      <td>2020-07-24T00:00:00Z</td>\n",
       "      <td>49841503</td>\n",
       "      <td>49838094</td>\n",
       "      <td>49838094</td>\n",
       "      <td>1178</td>\n",
       "      <td>3026</td>\n",
       "      <td>854645</td>\n",
       "      <td>75193</td>\n",
       "      <td>929838</td>\n",
       "      <td>12df42387588e4187c573031bd050ea724720a82</td>\n",
       "    </tr>\n",
       "    <tr>\n",
       "      <th>1</th>\n",
       "      <td>2020-07-23</td>\n",
       "      <td>56</td>\n",
       "      <td>4017735</td>\n",
       "      <td>44890521</td>\n",
       "      <td>3179.0</td>\n",
       "      <td>59885.0</td>\n",
       "      <td>286329.0</td>\n",
       "      <td>10466.0</td>\n",
       "      <td>12933.0</td>\n",
       "      <td>2472.0</td>\n",
       "      <td>...</td>\n",
       "      <td>2020-07-23T00:00:00Z</td>\n",
       "      <td>48911435</td>\n",
       "      <td>48908256</td>\n",
       "      <td>48908256</td>\n",
       "      <td>1039</td>\n",
       "      <td>2500</td>\n",
       "      <td>753372</td>\n",
       "      <td>71027</td>\n",
       "      <td>824399</td>\n",
       "      <td>c7d29139144a768dd70fb305be3246f8c5b25a42</td>\n",
       "    </tr>\n",
       "    <tr>\n",
       "      <th>2</th>\n",
       "      <td>2020-07-22</td>\n",
       "      <td>56</td>\n",
       "      <td>3946708</td>\n",
       "      <td>44137149</td>\n",
       "      <td>3051.0</td>\n",
       "      <td>59675.0</td>\n",
       "      <td>283829.0</td>\n",
       "      <td>10457.0</td>\n",
       "      <td>12790.0</td>\n",
       "      <td>2440.0</td>\n",
       "      <td>...</td>\n",
       "      <td>2020-07-22T00:00:00Z</td>\n",
       "      <td>48086908</td>\n",
       "      <td>48083857</td>\n",
       "      <td>48083857</td>\n",
       "      <td>1117</td>\n",
       "      <td>2248</td>\n",
       "      <td>726352</td>\n",
       "      <td>69150</td>\n",
       "      <td>795502</td>\n",
       "      <td>c28c2ce1af7dcb4a6dfc783c222acb7387b19277</td>\n",
       "    </tr>\n",
       "    <tr>\n",
       "      <th>3</th>\n",
       "      <td>2020-07-21</td>\n",
       "      <td>56</td>\n",
       "      <td>3877558</td>\n",
       "      <td>43410797</td>\n",
       "      <td>3197.0</td>\n",
       "      <td>59362.0</td>\n",
       "      <td>281581.0</td>\n",
       "      <td>6711.0</td>\n",
       "      <td>12629.0</td>\n",
       "      <td>2414.0</td>\n",
       "      <td>...</td>\n",
       "      <td>2020-07-21T00:00:00Z</td>\n",
       "      <td>47291552</td>\n",
       "      <td>47288355</td>\n",
       "      <td>47288355</td>\n",
       "      <td>1038</td>\n",
       "      <td>2551</td>\n",
       "      <td>686606</td>\n",
       "      <td>63642</td>\n",
       "      <td>750248</td>\n",
       "      <td>b315275d3d2251da5af96422594a53d6d0508aad</td>\n",
       "    </tr>\n",
       "    <tr>\n",
       "      <th>4</th>\n",
       "      <td>2020-07-20</td>\n",
       "      <td>56</td>\n",
       "      <td>3813916</td>\n",
       "      <td>42724191</td>\n",
       "      <td>3003.0</td>\n",
       "      <td>58371.0</td>\n",
       "      <td>279030.0</td>\n",
       "      <td>6558.0</td>\n",
       "      <td>12475.0</td>\n",
       "      <td>2403.0</td>\n",
       "      <td>...</td>\n",
       "      <td>2020-07-20T00:00:00Z</td>\n",
       "      <td>46541110</td>\n",
       "      <td>46538107</td>\n",
       "      <td>46538107</td>\n",
       "      <td>362</td>\n",
       "      <td>1647</td>\n",
       "      <td>654044</td>\n",
       "      <td>56971</td>\n",
       "      <td>711015</td>\n",
       "      <td>6223e4e1a7003f68d8bd1f30742ea4d8e283b834</td>\n",
       "    </tr>\n",
       "  </tbody>\n",
       "</table>\n",
       "<p>5 rows × 25 columns</p>\n",
       "</div>"
      ],
      "text/plain": [
       "        date  states  positive  negative  pending  hospitalizedCurrently  \\\n",
       "0 2020-07-24      56   4092928  45745166   3409.0                59670.0   \n",
       "1 2020-07-23      56   4017735  44890521   3179.0                59885.0   \n",
       "2 2020-07-22      56   3946708  44137149   3051.0                59675.0   \n",
       "3 2020-07-21      56   3877558  43410797   3197.0                59362.0   \n",
       "4 2020-07-20      56   3813916  42724191   3003.0                58371.0   \n",
       "\n",
       "   hospitalizedCumulative  inIcuCurrently  inIcuCumulative  \\\n",
       "0                289355.0         10288.0          13182.0   \n",
       "1                286329.0         10466.0          12933.0   \n",
       "2                283829.0         10457.0          12790.0   \n",
       "3                281581.0          6711.0          12629.0   \n",
       "4                279030.0          6558.0          12475.0   \n",
       "\n",
       "   onVentilatorCurrently  ...          lastModified     total  \\\n",
       "0                 2712.0  ...  2020-07-24T00:00:00Z  49841503   \n",
       "1                 2472.0  ...  2020-07-23T00:00:00Z  48911435   \n",
       "2                 2440.0  ...  2020-07-22T00:00:00Z  48086908   \n",
       "3                 2414.0  ...  2020-07-21T00:00:00Z  47291552   \n",
       "4                 2403.0  ...  2020-07-20T00:00:00Z  46541110   \n",
       "\n",
       "  totalTestResults    posNeg  deathIncrease hospitalizedIncrease  \\\n",
       "0         49838094  49838094           1178                 3026   \n",
       "1         48908256  48908256           1039                 2500   \n",
       "2         48083857  48083857           1117                 2248   \n",
       "3         47288355  47288355           1038                 2551   \n",
       "4         46538107  46538107            362                 1647   \n",
       "\n",
       "   negativeIncrease  positiveIncrease  totalTestResultsIncrease  \\\n",
       "0            854645             75193                    929838   \n",
       "1            753372             71027                    824399   \n",
       "2            726352             69150                    795502   \n",
       "3            686606             63642                    750248   \n",
       "4            654044             56971                    711015   \n",
       "\n",
       "                                       hash  \n",
       "0  12df42387588e4187c573031bd050ea724720a82  \n",
       "1  c7d29139144a768dd70fb305be3246f8c5b25a42  \n",
       "2  c28c2ce1af7dcb4a6dfc783c222acb7387b19277  \n",
       "3  b315275d3d2251da5af96422594a53d6d0508aad  \n",
       "4  6223e4e1a7003f68d8bd1f30742ea4d8e283b834  \n",
       "\n",
       "[5 rows x 25 columns]"
      ]
     },
     "execution_count": 30,
     "metadata": {},
     "output_type": "execute_result"
    }
   ],
   "source": [
    "daily_data.head()"
   ]
  },
  {
   "cell_type": "code",
   "execution_count": 31,
   "metadata": {},
   "outputs": [
    {
     "data": {
      "text/html": [
       "<div>\n",
       "<style scoped>\n",
       "    .dataframe tbody tr th:only-of-type {\n",
       "        vertical-align: middle;\n",
       "    }\n",
       "\n",
       "    .dataframe tbody tr th {\n",
       "        vertical-align: top;\n",
       "    }\n",
       "\n",
       "    .dataframe thead th {\n",
       "        text-align: right;\n",
       "    }\n",
       "</style>\n",
       "<table border=\"1\" class=\"dataframe\">\n",
       "  <thead>\n",
       "    <tr style=\"text-align: right;\">\n",
       "      <th></th>\n",
       "      <th>ID</th>\n",
       "      <th>COUNTRY</th>\n",
       "      <th>ISO</th>\n",
       "      <th>ADMIN_LEVEL_NAME</th>\n",
       "      <th>PCODE</th>\n",
       "      <th>REGION</th>\n",
       "      <th>LOG_TYPE</th>\n",
       "      <th>CATEGORY</th>\n",
       "      <th>MEASURE</th>\n",
       "      <th>TARGETED_POP_GROUP</th>\n",
       "      <th>COMMENTS</th>\n",
       "      <th>NON_COMPLIANCE</th>\n",
       "      <th>DATE_IMPLEMENTED</th>\n",
       "      <th>SOURCE</th>\n",
       "      <th>SOURCE_TYPE</th>\n",
       "      <th>LINK</th>\n",
       "      <th>ENTRY_DATE</th>\n",
       "      <th>Alternative source</th>\n",
       "    </tr>\n",
       "  </thead>\n",
       "  <tbody>\n",
       "    <tr>\n",
       "      <th>0</th>\n",
       "      <td>1</td>\n",
       "      <td>Afghanistan</td>\n",
       "      <td>AFG</td>\n",
       "      <td>NaN</td>\n",
       "      <td>NaN</td>\n",
       "      <td>Asia</td>\n",
       "      <td>Introduction / extension of measures</td>\n",
       "      <td>Public health measures</td>\n",
       "      <td>Health screenings in airports and border cross...</td>\n",
       "      <td>No</td>\n",
       "      <td>NaN</td>\n",
       "      <td>NaN</td>\n",
       "      <td>2020-02-12</td>\n",
       "      <td>Ministry of Health</td>\n",
       "      <td>Government</td>\n",
       "      <td>https://moph.gov.af/en/moph-held-emergency-mee...</td>\n",
       "      <td>2020-03-14</td>\n",
       "      <td>NaN</td>\n",
       "    </tr>\n",
       "    <tr>\n",
       "      <th>1</th>\n",
       "      <td>2</td>\n",
       "      <td>Afghanistan</td>\n",
       "      <td>AFG</td>\n",
       "      <td>Kabul</td>\n",
       "      <td>NaN</td>\n",
       "      <td>Asia</td>\n",
       "      <td>Introduction / extension of measures</td>\n",
       "      <td>Public health measures</td>\n",
       "      <td>Isolation and quarantine policies</td>\n",
       "      <td>No</td>\n",
       "      <td>NaN</td>\n",
       "      <td>NaN</td>\n",
       "      <td>2020-02-12</td>\n",
       "      <td>Ministry of Health</td>\n",
       "      <td>Government</td>\n",
       "      <td>https://moph.gov.af/en/moph-held-emergency-mee...</td>\n",
       "      <td>2020-03-14</td>\n",
       "      <td>NaN</td>\n",
       "    </tr>\n",
       "    <tr>\n",
       "      <th>2</th>\n",
       "      <td>3</td>\n",
       "      <td>Afghanistan</td>\n",
       "      <td>AFG</td>\n",
       "      <td>NaN</td>\n",
       "      <td>NaN</td>\n",
       "      <td>Asia</td>\n",
       "      <td>Introduction / extension of measures</td>\n",
       "      <td>Public health measures</td>\n",
       "      <td>Awareness campaigns</td>\n",
       "      <td>No</td>\n",
       "      <td>NaN</td>\n",
       "      <td>NaN</td>\n",
       "      <td>2020-02-12</td>\n",
       "      <td>Ministry of Health</td>\n",
       "      <td>Government</td>\n",
       "      <td>https://moph.gov.af/en/moph-held-emergency-mee...</td>\n",
       "      <td>2020-03-14</td>\n",
       "      <td>NaN</td>\n",
       "    </tr>\n",
       "    <tr>\n",
       "      <th>3</th>\n",
       "      <td>4</td>\n",
       "      <td>Afghanistan</td>\n",
       "      <td>AFG</td>\n",
       "      <td>NaN</td>\n",
       "      <td>NaN</td>\n",
       "      <td>Asia</td>\n",
       "      <td>Introduction / extension of measures</td>\n",
       "      <td>Governance and socio-economic measures</td>\n",
       "      <td>Emergency administrative structures activated ...</td>\n",
       "      <td>No</td>\n",
       "      <td>NaN</td>\n",
       "      <td>NaN</td>\n",
       "      <td>2020-02-12</td>\n",
       "      <td>Ministry of Health</td>\n",
       "      <td>Government</td>\n",
       "      <td>https://moph.gov.af/en/moph-held-emergency-mee...</td>\n",
       "      <td>2020-03-14</td>\n",
       "      <td>NaN</td>\n",
       "    </tr>\n",
       "    <tr>\n",
       "      <th>4</th>\n",
       "      <td>5</td>\n",
       "      <td>Afghanistan</td>\n",
       "      <td>AFG</td>\n",
       "      <td>NaN</td>\n",
       "      <td>NaN</td>\n",
       "      <td>Asia</td>\n",
       "      <td>Introduction / extension of measures</td>\n",
       "      <td>Social distancing</td>\n",
       "      <td>Limit public gatherings</td>\n",
       "      <td>No</td>\n",
       "      <td>Nevruz festival cancelled</td>\n",
       "      <td>NaN</td>\n",
       "      <td>2020-03-12</td>\n",
       "      <td>AA</td>\n",
       "      <td>Media</td>\n",
       "      <td>https://www.aa.com.tr/en/asia-pacific/coronavi...</td>\n",
       "      <td>2020-03-14</td>\n",
       "      <td>NaN</td>\n",
       "    </tr>\n",
       "  </tbody>\n",
       "</table>\n",
       "</div>"
      ],
      "text/plain": [
       "   ID      COUNTRY  ISO ADMIN_LEVEL_NAME  PCODE REGION  \\\n",
       "0   1  Afghanistan  AFG              NaN    NaN   Asia   \n",
       "1   2  Afghanistan  AFG            Kabul    NaN   Asia   \n",
       "2   3  Afghanistan  AFG              NaN    NaN   Asia   \n",
       "3   4  Afghanistan  AFG              NaN    NaN   Asia   \n",
       "4   5  Afghanistan  AFG              NaN    NaN   Asia   \n",
       "\n",
       "                               LOG_TYPE  \\\n",
       "0  Introduction / extension of measures   \n",
       "1  Introduction / extension of measures   \n",
       "2  Introduction / extension of measures   \n",
       "3  Introduction / extension of measures   \n",
       "4  Introduction / extension of measures   \n",
       "\n",
       "                                 CATEGORY  \\\n",
       "0                  Public health measures   \n",
       "1                  Public health measures   \n",
       "2                  Public health measures   \n",
       "3  Governance and socio-economic measures   \n",
       "4                       Social distancing   \n",
       "\n",
       "                                             MEASURE TARGETED_POP_GROUP  \\\n",
       "0  Health screenings in airports and border cross...                 No   \n",
       "1                  Isolation and quarantine policies                 No   \n",
       "2                                Awareness campaigns                 No   \n",
       "3  Emergency administrative structures activated ...                 No   \n",
       "4                            Limit public gatherings                 No   \n",
       "\n",
       "                    COMMENTS NON_COMPLIANCE DATE_IMPLEMENTED  \\\n",
       "0                        NaN            NaN       2020-02-12   \n",
       "1                        NaN            NaN       2020-02-12   \n",
       "2                        NaN            NaN       2020-02-12   \n",
       "3                        NaN            NaN       2020-02-12   \n",
       "4  Nevruz festival cancelled            NaN       2020-03-12   \n",
       "\n",
       "               SOURCE SOURCE_TYPE  \\\n",
       "0  Ministry of Health  Government   \n",
       "1  Ministry of Health  Government   \n",
       "2  Ministry of Health  Government   \n",
       "3  Ministry of Health  Government   \n",
       "4                  AA       Media   \n",
       "\n",
       "                                                LINK ENTRY_DATE  \\\n",
       "0  https://moph.gov.af/en/moph-held-emergency-mee... 2020-03-14   \n",
       "1  https://moph.gov.af/en/moph-held-emergency-mee... 2020-03-14   \n",
       "2  https://moph.gov.af/en/moph-held-emergency-mee... 2020-03-14   \n",
       "3  https://moph.gov.af/en/moph-held-emergency-mee... 2020-03-14   \n",
       "4  https://www.aa.com.tr/en/asia-pacific/coronavi... 2020-03-14   \n",
       "\n",
       "  Alternative source  \n",
       "0                NaN  \n",
       "1                NaN  \n",
       "2                NaN  \n",
       "3                NaN  \n",
       "4                NaN  "
      ]
     },
     "execution_count": 31,
     "metadata": {},
     "output_type": "execute_result"
    }
   ],
   "source": [
    "govt_measures.head()"
   ]
  },
  {
   "cell_type": "code",
   "execution_count": 32,
   "metadata": {},
   "outputs": [],
   "source": [
    "# Filter only for United States\n",
    "govt_measures = govt_measures[govt_measures['COUNTRY'] == 'United States of America']"
   ]
  },
  {
   "cell_type": "code",
   "execution_count": 33,
   "metadata": {},
   "outputs": [
    {
     "data": {
      "text/html": [
       "<div>\n",
       "<style scoped>\n",
       "    .dataframe tbody tr th:only-of-type {\n",
       "        vertical-align: middle;\n",
       "    }\n",
       "\n",
       "    .dataframe tbody tr th {\n",
       "        vertical-align: top;\n",
       "    }\n",
       "\n",
       "    .dataframe thead th {\n",
       "        text-align: right;\n",
       "    }\n",
       "</style>\n",
       "<table border=\"1\" class=\"dataframe\">\n",
       "  <thead>\n",
       "    <tr style=\"text-align: right;\">\n",
       "      <th></th>\n",
       "      <th>date</th>\n",
       "      <th>states</th>\n",
       "      <th>positive</th>\n",
       "      <th>negative</th>\n",
       "      <th>pending</th>\n",
       "      <th>hospitalizedCurrently</th>\n",
       "      <th>hospitalizedCumulative</th>\n",
       "      <th>inIcuCurrently</th>\n",
       "      <th>inIcuCumulative</th>\n",
       "      <th>onVentilatorCurrently</th>\n",
       "      <th>...</th>\n",
       "      <th>MEASURE</th>\n",
       "      <th>TARGETED_POP_GROUP</th>\n",
       "      <th>COMMENTS</th>\n",
       "      <th>NON_COMPLIANCE</th>\n",
       "      <th>DATE_IMPLEMENTED</th>\n",
       "      <th>SOURCE</th>\n",
       "      <th>SOURCE_TYPE</th>\n",
       "      <th>LINK</th>\n",
       "      <th>ENTRY_DATE</th>\n",
       "      <th>Alternative source</th>\n",
       "    </tr>\n",
       "  </thead>\n",
       "  <tbody>\n",
       "    <tr>\n",
       "      <th>0</th>\n",
       "      <td>2020-07-24</td>\n",
       "      <td>56</td>\n",
       "      <td>4092928</td>\n",
       "      <td>45745166</td>\n",
       "      <td>3409.0</td>\n",
       "      <td>59670.0</td>\n",
       "      <td>289355.0</td>\n",
       "      <td>10288.0</td>\n",
       "      <td>13182.0</td>\n",
       "      <td>2712.0</td>\n",
       "      <td>...</td>\n",
       "      <td>NaN</td>\n",
       "      <td>NaN</td>\n",
       "      <td>NaN</td>\n",
       "      <td>NaN</td>\n",
       "      <td>NaT</td>\n",
       "      <td>NaN</td>\n",
       "      <td>NaN</td>\n",
       "      <td>NaN</td>\n",
       "      <td>NaT</td>\n",
       "      <td>NaN</td>\n",
       "    </tr>\n",
       "    <tr>\n",
       "      <th>1</th>\n",
       "      <td>2020-07-23</td>\n",
       "      <td>56</td>\n",
       "      <td>4017735</td>\n",
       "      <td>44890521</td>\n",
       "      <td>3179.0</td>\n",
       "      <td>59885.0</td>\n",
       "      <td>286329.0</td>\n",
       "      <td>10466.0</td>\n",
       "      <td>12933.0</td>\n",
       "      <td>2472.0</td>\n",
       "      <td>...</td>\n",
       "      <td>NaN</td>\n",
       "      <td>NaN</td>\n",
       "      <td>NaN</td>\n",
       "      <td>NaN</td>\n",
       "      <td>NaT</td>\n",
       "      <td>NaN</td>\n",
       "      <td>NaN</td>\n",
       "      <td>NaN</td>\n",
       "      <td>NaT</td>\n",
       "      <td>NaN</td>\n",
       "    </tr>\n",
       "    <tr>\n",
       "      <th>2</th>\n",
       "      <td>2020-07-22</td>\n",
       "      <td>56</td>\n",
       "      <td>3946708</td>\n",
       "      <td>44137149</td>\n",
       "      <td>3051.0</td>\n",
       "      <td>59675.0</td>\n",
       "      <td>283829.0</td>\n",
       "      <td>10457.0</td>\n",
       "      <td>12790.0</td>\n",
       "      <td>2440.0</td>\n",
       "      <td>...</td>\n",
       "      <td>NaN</td>\n",
       "      <td>NaN</td>\n",
       "      <td>NaN</td>\n",
       "      <td>NaN</td>\n",
       "      <td>NaT</td>\n",
       "      <td>NaN</td>\n",
       "      <td>NaN</td>\n",
       "      <td>NaN</td>\n",
       "      <td>NaT</td>\n",
       "      <td>NaN</td>\n",
       "    </tr>\n",
       "    <tr>\n",
       "      <th>3</th>\n",
       "      <td>2020-07-21</td>\n",
       "      <td>56</td>\n",
       "      <td>3877558</td>\n",
       "      <td>43410797</td>\n",
       "      <td>3197.0</td>\n",
       "      <td>59362.0</td>\n",
       "      <td>281581.0</td>\n",
       "      <td>6711.0</td>\n",
       "      <td>12629.0</td>\n",
       "      <td>2414.0</td>\n",
       "      <td>...</td>\n",
       "      <td>NaN</td>\n",
       "      <td>NaN</td>\n",
       "      <td>NaN</td>\n",
       "      <td>NaN</td>\n",
       "      <td>NaT</td>\n",
       "      <td>NaN</td>\n",
       "      <td>NaN</td>\n",
       "      <td>NaN</td>\n",
       "      <td>NaT</td>\n",
       "      <td>NaN</td>\n",
       "    </tr>\n",
       "    <tr>\n",
       "      <th>4</th>\n",
       "      <td>2020-07-20</td>\n",
       "      <td>56</td>\n",
       "      <td>3813916</td>\n",
       "      <td>42724191</td>\n",
       "      <td>3003.0</td>\n",
       "      <td>58371.0</td>\n",
       "      <td>279030.0</td>\n",
       "      <td>6558.0</td>\n",
       "      <td>12475.0</td>\n",
       "      <td>2403.0</td>\n",
       "      <td>...</td>\n",
       "      <td>NaN</td>\n",
       "      <td>NaN</td>\n",
       "      <td>NaN</td>\n",
       "      <td>NaN</td>\n",
       "      <td>NaT</td>\n",
       "      <td>NaN</td>\n",
       "      <td>NaN</td>\n",
       "      <td>NaN</td>\n",
       "      <td>NaT</td>\n",
       "      <td>NaN</td>\n",
       "    </tr>\n",
       "    <tr>\n",
       "      <th>...</th>\n",
       "      <td>...</td>\n",
       "      <td>...</td>\n",
       "      <td>...</td>\n",
       "      <td>...</td>\n",
       "      <td>...</td>\n",
       "      <td>...</td>\n",
       "      <td>...</td>\n",
       "      <td>...</td>\n",
       "      <td>...</td>\n",
       "      <td>...</td>\n",
       "      <td>...</td>\n",
       "      <td>...</td>\n",
       "      <td>...</td>\n",
       "      <td>...</td>\n",
       "      <td>...</td>\n",
       "      <td>...</td>\n",
       "      <td>...</td>\n",
       "      <td>...</td>\n",
       "      <td>...</td>\n",
       "      <td>...</td>\n",
       "      <td>...</td>\n",
       "    </tr>\n",
       "    <tr>\n",
       "      <th>363</th>\n",
       "      <td>2020-01-26</td>\n",
       "      <td>1</td>\n",
       "      <td>2</td>\n",
       "      <td>0</td>\n",
       "      <td>NaN</td>\n",
       "      <td>NaN</td>\n",
       "      <td>NaN</td>\n",
       "      <td>NaN</td>\n",
       "      <td>NaN</td>\n",
       "      <td>NaN</td>\n",
       "      <td>...</td>\n",
       "      <td>NaN</td>\n",
       "      <td>NaN</td>\n",
       "      <td>NaN</td>\n",
       "      <td>NaN</td>\n",
       "      <td>NaT</td>\n",
       "      <td>NaN</td>\n",
       "      <td>NaN</td>\n",
       "      <td>NaN</td>\n",
       "      <td>NaT</td>\n",
       "      <td>NaN</td>\n",
       "    </tr>\n",
       "    <tr>\n",
       "      <th>364</th>\n",
       "      <td>2020-01-25</td>\n",
       "      <td>1</td>\n",
       "      <td>2</td>\n",
       "      <td>0</td>\n",
       "      <td>NaN</td>\n",
       "      <td>NaN</td>\n",
       "      <td>NaN</td>\n",
       "      <td>NaN</td>\n",
       "      <td>NaN</td>\n",
       "      <td>NaN</td>\n",
       "      <td>...</td>\n",
       "      <td>NaN</td>\n",
       "      <td>NaN</td>\n",
       "      <td>NaN</td>\n",
       "      <td>NaN</td>\n",
       "      <td>NaT</td>\n",
       "      <td>NaN</td>\n",
       "      <td>NaN</td>\n",
       "      <td>NaN</td>\n",
       "      <td>NaT</td>\n",
       "      <td>NaN</td>\n",
       "    </tr>\n",
       "    <tr>\n",
       "      <th>365</th>\n",
       "      <td>2020-01-24</td>\n",
       "      <td>1</td>\n",
       "      <td>2</td>\n",
       "      <td>0</td>\n",
       "      <td>NaN</td>\n",
       "      <td>NaN</td>\n",
       "      <td>NaN</td>\n",
       "      <td>NaN</td>\n",
       "      <td>NaN</td>\n",
       "      <td>NaN</td>\n",
       "      <td>...</td>\n",
       "      <td>NaN</td>\n",
       "      <td>NaN</td>\n",
       "      <td>NaN</td>\n",
       "      <td>NaN</td>\n",
       "      <td>NaT</td>\n",
       "      <td>NaN</td>\n",
       "      <td>NaN</td>\n",
       "      <td>NaN</td>\n",
       "      <td>NaT</td>\n",
       "      <td>NaN</td>\n",
       "    </tr>\n",
       "    <tr>\n",
       "      <th>366</th>\n",
       "      <td>2020-01-23</td>\n",
       "      <td>1</td>\n",
       "      <td>2</td>\n",
       "      <td>0</td>\n",
       "      <td>NaN</td>\n",
       "      <td>NaN</td>\n",
       "      <td>NaN</td>\n",
       "      <td>NaN</td>\n",
       "      <td>NaN</td>\n",
       "      <td>NaN</td>\n",
       "      <td>...</td>\n",
       "      <td>NaN</td>\n",
       "      <td>NaN</td>\n",
       "      <td>NaN</td>\n",
       "      <td>NaN</td>\n",
       "      <td>NaT</td>\n",
       "      <td>NaN</td>\n",
       "      <td>NaN</td>\n",
       "      <td>NaN</td>\n",
       "      <td>NaT</td>\n",
       "      <td>NaN</td>\n",
       "    </tr>\n",
       "    <tr>\n",
       "      <th>367</th>\n",
       "      <td>2020-01-22</td>\n",
       "      <td>1</td>\n",
       "      <td>2</td>\n",
       "      <td>0</td>\n",
       "      <td>NaN</td>\n",
       "      <td>NaN</td>\n",
       "      <td>NaN</td>\n",
       "      <td>NaN</td>\n",
       "      <td>NaN</td>\n",
       "      <td>NaN</td>\n",
       "      <td>...</td>\n",
       "      <td>Strengthening the public health system</td>\n",
       "      <td>Yes</td>\n",
       "      <td>CDC Grows SARS-CoV-2, the virus that causes CO...</td>\n",
       "      <td>Not applicable</td>\n",
       "      <td>2020-01-22</td>\n",
       "      <td>CDC</td>\n",
       "      <td>Government</td>\n",
       "      <td>https://tools.cdc.gov/medialibrary/index.aspx#...</td>\n",
       "      <td>2020-03-26</td>\n",
       "      <td>NaN</td>\n",
       "    </tr>\n",
       "  </tbody>\n",
       "</table>\n",
       "<p>368 rows × 43 columns</p>\n",
       "</div>"
      ],
      "text/plain": [
       "          date  states  positive  negative  pending  hospitalizedCurrently  \\\n",
       "0   2020-07-24      56   4092928  45745166   3409.0                59670.0   \n",
       "1   2020-07-23      56   4017735  44890521   3179.0                59885.0   \n",
       "2   2020-07-22      56   3946708  44137149   3051.0                59675.0   \n",
       "3   2020-07-21      56   3877558  43410797   3197.0                59362.0   \n",
       "4   2020-07-20      56   3813916  42724191   3003.0                58371.0   \n",
       "..         ...     ...       ...       ...      ...                    ...   \n",
       "363 2020-01-26       1         2         0      NaN                    NaN   \n",
       "364 2020-01-25       1         2         0      NaN                    NaN   \n",
       "365 2020-01-24       1         2         0      NaN                    NaN   \n",
       "366 2020-01-23       1         2         0      NaN                    NaN   \n",
       "367 2020-01-22       1         2         0      NaN                    NaN   \n",
       "\n",
       "     hospitalizedCumulative  inIcuCurrently  inIcuCumulative  \\\n",
       "0                  289355.0         10288.0          13182.0   \n",
       "1                  286329.0         10466.0          12933.0   \n",
       "2                  283829.0         10457.0          12790.0   \n",
       "3                  281581.0          6711.0          12629.0   \n",
       "4                  279030.0          6558.0          12475.0   \n",
       "..                      ...             ...              ...   \n",
       "363                     NaN             NaN              NaN   \n",
       "364                     NaN             NaN              NaN   \n",
       "365                     NaN             NaN              NaN   \n",
       "366                     NaN             NaN              NaN   \n",
       "367                     NaN             NaN              NaN   \n",
       "\n",
       "     onVentilatorCurrently  ...                                 MEASURE  \\\n",
       "0                   2712.0  ...                                     NaN   \n",
       "1                   2472.0  ...                                     NaN   \n",
       "2                   2440.0  ...                                     NaN   \n",
       "3                   2414.0  ...                                     NaN   \n",
       "4                   2403.0  ...                                     NaN   \n",
       "..                     ...  ...                                     ...   \n",
       "363                    NaN  ...                                     NaN   \n",
       "364                    NaN  ...                                     NaN   \n",
       "365                    NaN  ...                                     NaN   \n",
       "366                    NaN  ...                                     NaN   \n",
       "367                    NaN  ...  Strengthening the public health system   \n",
       "\n",
       "     TARGETED_POP_GROUP                                           COMMENTS  \\\n",
       "0                   NaN                                                NaN   \n",
       "1                   NaN                                                NaN   \n",
       "2                   NaN                                                NaN   \n",
       "3                   NaN                                                NaN   \n",
       "4                   NaN                                                NaN   \n",
       "..                  ...                                                ...   \n",
       "363                 NaN                                                NaN   \n",
       "364                 NaN                                                NaN   \n",
       "365                 NaN                                                NaN   \n",
       "366                 NaN                                                NaN   \n",
       "367                 Yes  CDC Grows SARS-CoV-2, the virus that causes CO...   \n",
       "\n",
       "     NON_COMPLIANCE  DATE_IMPLEMENTED SOURCE  SOURCE_TYPE  \\\n",
       "0               NaN               NaT    NaN          NaN   \n",
       "1               NaN               NaT    NaN          NaN   \n",
       "2               NaN               NaT    NaN          NaN   \n",
       "3               NaN               NaT    NaN          NaN   \n",
       "4               NaN               NaT    NaN          NaN   \n",
       "..              ...               ...    ...          ...   \n",
       "363             NaN               NaT    NaN          NaN   \n",
       "364             NaN               NaT    NaN          NaN   \n",
       "365             NaN               NaT    NaN          NaN   \n",
       "366             NaN               NaT    NaN          NaN   \n",
       "367  Not applicable        2020-01-22    CDC   Government   \n",
       "\n",
       "                                                  LINK  ENTRY_DATE  \\\n",
       "0                                                  NaN         NaT   \n",
       "1                                                  NaN         NaT   \n",
       "2                                                  NaN         NaT   \n",
       "3                                                  NaN         NaT   \n",
       "4                                                  NaN         NaT   \n",
       "..                                                 ...         ...   \n",
       "363                                                NaN         NaT   \n",
       "364                                                NaN         NaT   \n",
       "365                                                NaN         NaT   \n",
       "366                                                NaN         NaT   \n",
       "367  https://tools.cdc.gov/medialibrary/index.aspx#...  2020-03-26   \n",
       "\n",
       "     Alternative source  \n",
       "0                   NaN  \n",
       "1                   NaN  \n",
       "2                   NaN  \n",
       "3                   NaN  \n",
       "4                   NaN  \n",
       "..                  ...  \n",
       "363                 NaN  \n",
       "364                 NaN  \n",
       "365                 NaN  \n",
       "366                 NaN  \n",
       "367                 NaN  \n",
       "\n",
       "[368 rows x 43 columns]"
      ]
     },
     "execution_count": 33,
     "metadata": {},
     "output_type": "execute_result"
    }
   ],
   "source": [
    "daily_data.merge(govt_measures, left_on='date', right_on='DATE_IMPLEMENTED', how='left')"
   ]
  },
  {
   "cell_type": "code",
   "execution_count": 34,
   "metadata": {},
   "outputs": [
    {
     "data": {
      "text/plain": [
       "date                        datetime64[ns]\n",
       "states                               int64\n",
       "positive                             int64\n",
       "negative                             int64\n",
       "pending                            float64\n",
       "hospitalizedCurrently              float64\n",
       "hospitalizedCumulative             float64\n",
       "inIcuCurrently                     float64\n",
       "inIcuCumulative                    float64\n",
       "onVentilatorCurrently              float64\n",
       "onVentilatorCumulative             float64\n",
       "recovered                          float64\n",
       "dateChecked                         object\n",
       "death                              float64\n",
       "hospitalized                       float64\n",
       "lastModified                        object\n",
       "total                                int64\n",
       "totalTestResults                     int64\n",
       "posNeg                               int64\n",
       "deathIncrease                        int64\n",
       "hospitalizedIncrease                 int64\n",
       "negativeIncrease                     int64\n",
       "positiveIncrease                     int64\n",
       "totalTestResultsIncrease             int64\n",
       "hash                                object\n",
       "dtype: object"
      ]
     },
     "execution_count": 34,
     "metadata": {},
     "output_type": "execute_result"
    }
   ],
   "source": [
    "daily_data.dtypes"
   ]
  },
  {
   "cell_type": "code",
   "execution_count": 35,
   "metadata": {},
   "outputs": [],
   "source": [
    "import seaborn as sns\n",
    "import matplotlib.pyplot as plt\n",
    "from sklearn.preprocessing import LabelEncoder, OneHotEncoder\n",
    "import warnings\n",
    "warnings.filterwarnings(\"ignore\")\n",
    "from sklearn.model_selection import train_test_split\n",
    "from sklearn.svm import SVC\n",
    "from sklearn.metrics import confusion_matrix"
   ]
  },
  {
   "cell_type": "code",
   "execution_count": 36,
   "metadata": {},
   "outputs": [],
   "source": [
    "daily_data=daily_data.fillna(daily_data.mean())"
   ]
  },
  {
   "cell_type": "code",
   "execution_count": 37,
   "metadata": {},
   "outputs": [
    {
     "data": {
      "image/png": "[encoded data removed]",
      "text/plain": [
       "<Figure size 432x288 with 2 Axes>"
      ]
     },
     "metadata": {
      "needs_background": "light"
     },
     "output_type": "display_data"
    }
   ],
   "source": [
    "corr = daily_data.corr()\n",
    "fig = plt.figure()\n",
    "ax = fig.add_subplot(111)\n",
    "cax = ax.matshow(corr,cmap='coolwarm', vmin=-1, vmax=1)\n",
    "fig.colorbar(cax)\n",
    "ticks = np.arange(0,len(daily_data.columns),1)\n",
    "ax.set_xticks(ticks)\n",
    "plt.xticks(rotation=90)\n",
    "ax.set_yticks(ticks)\n",
    "ax.set_xticklabels(daily_data.columns)\n",
    "ax.set_yticklabels(daily_data.columns)\n",
    "plt.show()\n"
   ]
  },
  {
   "cell_type": "code",
   "execution_count": 38,
   "metadata": {},
   "outputs": [
    {
     "data": {
      "text/html": [
       "<div>\n",
       "<style scoped>\n",
       "    .dataframe tbody tr th:only-of-type {\n",
       "        vertical-align: middle;\n",
       "    }\n",
       "\n",
       "    .dataframe tbody tr th {\n",
       "        vertical-align: top;\n",
       "    }\n",
       "\n",
       "    .dataframe thead th {\n",
       "        text-align: right;\n",
       "    }\n",
       "</style>\n",
       "<table border=\"1\" class=\"dataframe\">\n",
       "  <thead>\n",
       "    <tr style=\"text-align: right;\">\n",
       "      <th></th>\n",
       "      <th>date</th>\n",
       "      <th>states</th>\n",
       "      <th>positive</th>\n",
       "      <th>negative</th>\n",
       "      <th>hospitalizedCurrently</th>\n",
       "      <th>recovered</th>\n",
       "      <th>dateChecked</th>\n",
       "      <th>death</th>\n",
       "      <th>hospitalized</th>\n",
       "      <th>lastModified</th>\n",
       "      <th>posNeg</th>\n",
       "      <th>deathIncrease</th>\n",
       "      <th>hospitalizedIncrease</th>\n",
       "    </tr>\n",
       "  </thead>\n",
       "  <tbody>\n",
       "    <tr>\n",
       "      <th>0</th>\n",
       "      <td>2020-07-24</td>\n",
       "      <td>56</td>\n",
       "      <td>4092928</td>\n",
       "      <td>45745166</td>\n",
       "      <td>59670.000000</td>\n",
       "      <td>1.261624e+06</td>\n",
       "      <td>2020-07-24T00:00:00Z</td>\n",
       "      <td>137655.00</td>\n",
       "      <td>289355.000000</td>\n",
       "      <td>2020-07-24T00:00:00Z</td>\n",
       "      <td>49838094</td>\n",
       "      <td>1178</td>\n",
       "      <td>3026</td>\n",
       "    </tr>\n",
       "    <tr>\n",
       "      <th>1</th>\n",
       "      <td>2020-07-23</td>\n",
       "      <td>56</td>\n",
       "      <td>4017735</td>\n",
       "      <td>44890521</td>\n",
       "      <td>59885.000000</td>\n",
       "      <td>1.233269e+06</td>\n",
       "      <td>2020-07-23T00:00:00Z</td>\n",
       "      <td>136477.00</td>\n",
       "      <td>286329.000000</td>\n",
       "      <td>2020-07-23T00:00:00Z</td>\n",
       "      <td>48908256</td>\n",
       "      <td>1039</td>\n",
       "      <td>2500</td>\n",
       "    </tr>\n",
       "    <tr>\n",
       "      <th>2</th>\n",
       "      <td>2020-07-22</td>\n",
       "      <td>56</td>\n",
       "      <td>3946708</td>\n",
       "      <td>44137149</td>\n",
       "      <td>59675.000000</td>\n",
       "      <td>1.210849e+06</td>\n",
       "      <td>2020-07-22T00:00:00Z</td>\n",
       "      <td>135438.00</td>\n",
       "      <td>283829.000000</td>\n",
       "      <td>2020-07-22T00:00:00Z</td>\n",
       "      <td>48083857</td>\n",
       "      <td>1117</td>\n",
       "      <td>2248</td>\n",
       "    </tr>\n",
       "    <tr>\n",
       "      <th>3</th>\n",
       "      <td>2020-07-21</td>\n",
       "      <td>56</td>\n",
       "      <td>3877558</td>\n",
       "      <td>43410797</td>\n",
       "      <td>59362.000000</td>\n",
       "      <td>1.182931e+06</td>\n",
       "      <td>2020-07-21T00:00:00Z</td>\n",
       "      <td>134321.00</td>\n",
       "      <td>281581.000000</td>\n",
       "      <td>2020-07-21T00:00:00Z</td>\n",
       "      <td>47288355</td>\n",
       "      <td>1038</td>\n",
       "      <td>2551</td>\n",
       "    </tr>\n",
       "    <tr>\n",
       "      <th>4</th>\n",
       "      <td>2020-07-20</td>\n",
       "      <td>56</td>\n",
       "      <td>3813916</td>\n",
       "      <td>42724191</td>\n",
       "      <td>58371.000000</td>\n",
       "      <td>1.160087e+06</td>\n",
       "      <td>2020-07-20T00:00:00Z</td>\n",
       "      <td>133283.00</td>\n",
       "      <td>279030.000000</td>\n",
       "      <td>2020-07-20T00:00:00Z</td>\n",
       "      <td>46538107</td>\n",
       "      <td>362</td>\n",
       "      <td>1647</td>\n",
       "    </tr>\n",
       "    <tr>\n",
       "      <th>...</th>\n",
       "      <td>...</td>\n",
       "      <td>...</td>\n",
       "      <td>...</td>\n",
       "      <td>...</td>\n",
       "      <td>...</td>\n",
       "      <td>...</td>\n",
       "      <td>...</td>\n",
       "      <td>...</td>\n",
       "      <td>...</td>\n",
       "      <td>...</td>\n",
       "      <td>...</td>\n",
       "      <td>...</td>\n",
       "      <td>...</td>\n",
       "    </tr>\n",
       "    <tr>\n",
       "      <th>180</th>\n",
       "      <td>2020-01-26</td>\n",
       "      <td>1</td>\n",
       "      <td>2</td>\n",
       "      <td>0</td>\n",
       "      <td>39184.607692</td>\n",
       "      <td>4.569312e+05</td>\n",
       "      <td>2020-01-26T00:00:00Z</td>\n",
       "      <td>65687.34</td>\n",
       "      <td>146604.993007</td>\n",
       "      <td>2020-01-26T00:00:00Z</td>\n",
       "      <td>2</td>\n",
       "      <td>0</td>\n",
       "      <td>0</td>\n",
       "    </tr>\n",
       "    <tr>\n",
       "      <th>181</th>\n",
       "      <td>2020-01-25</td>\n",
       "      <td>1</td>\n",
       "      <td>2</td>\n",
       "      <td>0</td>\n",
       "      <td>39184.607692</td>\n",
       "      <td>4.569312e+05</td>\n",
       "      <td>2020-01-25T00:00:00Z</td>\n",
       "      <td>65687.34</td>\n",
       "      <td>146604.993007</td>\n",
       "      <td>2020-01-25T00:00:00Z</td>\n",
       "      <td>2</td>\n",
       "      <td>0</td>\n",
       "      <td>0</td>\n",
       "    </tr>\n",
       "    <tr>\n",
       "      <th>182</th>\n",
       "      <td>2020-01-24</td>\n",
       "      <td>1</td>\n",
       "      <td>2</td>\n",
       "      <td>0</td>\n",
       "      <td>39184.607692</td>\n",
       "      <td>4.569312e+05</td>\n",
       "      <td>2020-01-24T00:00:00Z</td>\n",
       "      <td>65687.34</td>\n",
       "      <td>146604.993007</td>\n",
       "      <td>2020-01-24T00:00:00Z</td>\n",
       "      <td>2</td>\n",
       "      <td>0</td>\n",
       "      <td>0</td>\n",
       "    </tr>\n",
       "    <tr>\n",
       "      <th>183</th>\n",
       "      <td>2020-01-23</td>\n",
       "      <td>1</td>\n",
       "      <td>2</td>\n",
       "      <td>0</td>\n",
       "      <td>39184.607692</td>\n",
       "      <td>4.569312e+05</td>\n",
       "      <td>2020-01-23T00:00:00Z</td>\n",
       "      <td>65687.34</td>\n",
       "      <td>146604.993007</td>\n",
       "      <td>2020-01-23T00:00:00Z</td>\n",
       "      <td>2</td>\n",
       "      <td>0</td>\n",
       "      <td>0</td>\n",
       "    </tr>\n",
       "    <tr>\n",
       "      <th>184</th>\n",
       "      <td>2020-01-22</td>\n",
       "      <td>1</td>\n",
       "      <td>2</td>\n",
       "      <td>0</td>\n",
       "      <td>39184.607692</td>\n",
       "      <td>4.569312e+05</td>\n",
       "      <td>2020-01-22T00:00:00Z</td>\n",
       "      <td>65687.34</td>\n",
       "      <td>146604.993007</td>\n",
       "      <td>2020-01-22T00:00:00Z</td>\n",
       "      <td>2</td>\n",
       "      <td>0</td>\n",
       "      <td>0</td>\n",
       "    </tr>\n",
       "  </tbody>\n",
       "</table>\n",
       "<p>185 rows × 13 columns</p>\n",
       "</div>"
      ],
      "text/plain": [
       "          date  states  positive  negative  hospitalizedCurrently  \\\n",
       "0   2020-07-24      56   4092928  45745166           59670.000000   \n",
       "1   2020-07-23      56   4017735  44890521           59885.000000   \n",
       "2   2020-07-22      56   3946708  44137149           59675.000000   \n",
       "3   2020-07-21      56   3877558  43410797           59362.000000   \n",
       "4   2020-07-20      56   3813916  42724191           58371.000000   \n",
       "..         ...     ...       ...       ...                    ...   \n",
       "180 2020-01-26       1         2         0           39184.607692   \n",
       "181 2020-01-25       1         2         0           39184.607692   \n",
       "182 2020-01-24       1         2         0           39184.607692   \n",
       "183 2020-01-23       1         2         0           39184.607692   \n",
       "184 2020-01-22       1         2         0           39184.607692   \n",
       "\n",
       "        recovered           dateChecked      death   hospitalized  \\\n",
       "0    1.261624e+06  2020-07-24T00:00:00Z  137655.00  289355.000000   \n",
       "1    1.233269e+06  2020-07-23T00:00:00Z  136477.00  286329.000000   \n",
       "2    1.210849e+06  2020-07-22T00:00:00Z  135438.00  283829.000000   \n",
       "3    1.182931e+06  2020-07-21T00:00:00Z  134321.00  281581.000000   \n",
       "4    1.160087e+06  2020-07-20T00:00:00Z  133283.00  279030.000000   \n",
       "..            ...                   ...        ...            ...   \n",
       "180  4.569312e+05  2020-01-26T00:00:00Z   65687.34  146604.993007   \n",
       "181  4.569312e+05  2020-01-25T00:00:00Z   65687.34  146604.993007   \n",
       "182  4.569312e+05  2020-01-24T00:00:00Z   65687.34  146604.993007   \n",
       "183  4.569312e+05  2020-01-23T00:00:00Z   65687.34  146604.993007   \n",
       "184  4.569312e+05  2020-01-22T00:00:00Z   65687.34  146604.993007   \n",
       "\n",
       "             lastModified    posNeg  deathIncrease  hospitalizedIncrease  \n",
       "0    2020-07-24T00:00:00Z  49838094           1178                  3026  \n",
       "1    2020-07-23T00:00:00Z  48908256           1039                  2500  \n",
       "2    2020-07-22T00:00:00Z  48083857           1117                  2248  \n",
       "3    2020-07-21T00:00:00Z  47288355           1038                  2551  \n",
       "4    2020-07-20T00:00:00Z  46538107            362                  1647  \n",
       "..                    ...       ...            ...                   ...  \n",
       "180  2020-01-26T00:00:00Z         2              0                     0  \n",
       "181  2020-01-25T00:00:00Z         2              0                     0  \n",
       "182  2020-01-24T00:00:00Z         2              0                     0  \n",
       "183  2020-01-23T00:00:00Z         2              0                     0  \n",
       "184  2020-01-22T00:00:00Z         2              0                     0  \n",
       "\n",
       "[185 rows x 13 columns]"
      ]
     },
     "execution_count": 38,
     "metadata": {},
     "output_type": "execute_result"
    }
   ],
   "source": [
    "daily_data.drop(columns=['hash','totalTestResultsIncrease','positiveIncrease','negativeIncrease','pending','hospitalizedCumulative','inIcuCurrently','inIcuCumulative','onVentilatorCurrently','onVentilatorCumulative','total','totalTestResults'])"
   ]
  },
  {
   "cell_type": "code",
   "execution_count": 39,
   "metadata": {},
   "outputs": [
    {
     "data": {
      "text/plain": [
       "<matplotlib.axes._subplots.AxesSubplot at 0x15e2c625c08>"
      ]
     },
     "execution_count": 39,
     "metadata": {},
     "output_type": "execute_result"
    },
    {
     "data": {
      "image/png": "[encoded data removed]",
      "text/plain": [
       "<Figure size 432x288 with 1 Axes>"
      ]
     },
     "metadata": {
      "needs_background": "light"
     },
     "output_type": "display_data"
    }
   ],
   "source": [
    "daily_data['positive'].value_counts().sort_index().plot.line()"
   ]
  },
  {
   "cell_type": "code",
   "execution_count": 40,
   "metadata": {},
   "outputs": [
    {
     "data": {
      "text/plain": [
       "<matplotlib.axes._subplots.AxesSubplot at 0x15e2c5895c8>"
      ]
     },
     "execution_count": 40,
     "metadata": {},
     "output_type": "execute_result"
    },
    {
     "data": {
      "image/png": "[encoded data removed]",
      "text/plain": [
       "<Figure size 432x288 with 1 Axes>"
      ]
     },
     "metadata": {
      "needs_background": "light"
     },
     "output_type": "display_data"
    }
   ],
   "source": [
    "daily_data['negative'].value_counts().sort_index().plot.line()\n",
    "\n",
    "\n"
   ]
  },
  {
   "cell_type": "code",
   "execution_count": 41,
   "metadata": {},
   "outputs": [
    {
     "data": {
      "text/plain": [
       "<matplotlib.axes._subplots.AxesSubplot at 0x15e2c4fd148>"
      ]
     },
     "execution_count": 41,
     "metadata": {},
     "output_type": "execute_result"
    },
    {
     "data": {
      "image/png": "[encoded data removed]",
      "text/plain": [
       "<Figure size 432x288 with 1 Axes>"
      ]
     },
     "metadata": {
      "needs_background": "light"
     },
     "output_type": "display_data"
    }
   ],
   "source": [
    "daily_data['hospitalizedCurrently'].value_counts().sort_index().plot.line()"
   ]
  },
  {
   "cell_type": "code",
   "execution_count": 42,
   "metadata": {},
   "outputs": [
    {
     "data": {
      "text/plain": [
       "<matplotlib.axes._subplots.AxesSubplot at 0x15e2c481608>"
      ]
     },
     "execution_count": 42,
     "metadata": {},
     "output_type": "execute_result"
    },
    {
     "data": {
      "image/png": "[encoded data removed]",
      "text/plain": [
       "<Figure size 432x288 with 1 Axes>"
      ]
     },
     "metadata": {
      "needs_background": "light"
     },
     "output_type": "display_data"
    }
   ],
   "source": [
    "daily_data['recovered'].value_counts().sort_index().plot.line()"
   ]
  },
  {
   "cell_type": "code",
   "execution_count": 43,
   "metadata": {},
   "outputs": [
    {
     "data": {
      "text/plain": [
       "<matplotlib.axes._subplots.AxesSubplot at 0x15e2c3d63c8>"
      ]
     },
     "execution_count": 43,
     "metadata": {},
     "output_type": "execute_result"
    },
    {
     "data": {
      "image/png": "[encoded data removed]",
      "text/plain": [
       "<Figure size 432x288 with 1 Axes>"
      ]
     },
     "metadata": {
      "needs_background": "light"
     },
     "output_type": "display_data"
    }
   ],
   "source": [
    "daily_data['death'].value_counts().sort_index().plot.line()"
   ]
  },
  {
   "cell_type": "code",
   "execution_count": 44,
   "metadata": {},
   "outputs": [
    {
     "data": {
      "text/plain": [
       "<matplotlib.axes._subplots.AxesSubplot at 0x15e2c327248>"
      ]
     },
     "execution_count": 44,
     "metadata": {},
     "output_type": "execute_result"
    },
    {
     "data": {
      "image/png": "[encoded data removed]",
      "text/plain": [
       "<Figure size 432x288 with 1 Axes>"
      ]
     },
     "metadata": {
      "needs_background": "light"
     },
     "output_type": "display_data"
    }
   ],
   "source": [
    "daily_data['hospitalized'].value_counts().sort_index().plot.line()"
   ]
  },
  {
   "cell_type": "code",
   "execution_count": 45,
   "metadata": {},
   "outputs": [
    {
     "data": {
      "text/plain": [
       "<matplotlib.axes._subplots.AxesSubplot at 0x15e2c47ca48>"
      ]
     },
     "execution_count": 45,
     "metadata": {},
     "output_type": "execute_result"
    },
    {
     "data": {
      "image/png": "[encoded data removed]",
      "text/plain": [
       "<Figure size 432x288 with 1 Axes>"
      ]
     },
     "metadata": {
      "needs_background": "light"
     },
     "output_type": "display_data"
    }
   ],
   "source": [
    "daily_data['deathIncrease'].value_counts().sort_index().plot.line()"
   ]
  },
  {
   "cell_type": "code",
   "execution_count": 46,
   "metadata": {},
   "outputs": [
    {
     "data": {
      "text/plain": [
       "<matplotlib.axes._subplots.AxesSubplot at 0x15e2b4f7c88>"
      ]
     },
     "execution_count": 46,
     "metadata": {},
     "output_type": "execute_result"
    },
    {
     "data": {
      "image/png": "[encoded data removed]",
      "text/plain": [
       "<Figure size 432x288 with 1 Axes>"
      ]
     },
     "metadata": {
      "needs_background": "light"
     },
     "output_type": "display_data"
    }
   ],
   "source": [
    "daily_data['hospitalizedIncrease'].value_counts().sort_index().plot.line()"
   ]
  },
  {
   "cell_type": "code",
   "execution_count": 59,
   "metadata": {},
   "outputs": [
    {
     "data": {
      "text/plain": [
       "date                        datetime64[ns]\n",
       "states                               int64\n",
       "positive                             int64\n",
       "negative                             int64\n",
       "pending                            float64\n",
       "hospitalizedCurrently              float64\n",
       "hospitalizedCumulative             float64\n",
       "inIcuCurrently                     float64\n",
       "inIcuCumulative                    float64\n",
       "onVentilatorCurrently              float64\n",
       "onVentilatorCumulative             float64\n",
       "recovered                          float64\n",
       "dateChecked                         object\n",
       "death                              float64\n",
       "hospitalized                       float64\n",
       "lastModified                        object\n",
       "total                                int64\n",
       "totalTestResults                     int64\n",
       "posNeg                               int64\n",
       "deathIncrease                        int64\n",
       "hospitalizedIncrease                 int64\n",
       "negativeIncrease                     int64\n",
       "positiveIncrease                     int64\n",
       "totalTestResultsIncrease             int64\n",
       "hash                                object\n",
       "dtype: object"
      ]
     },
     "execution_count": 59,
     "metadata": {},
     "output_type": "execute_result"
    }
   ],
   "source": [
    "copy=daily_data.copy()\n",
    "copy.head()\n",
    "copy.dtypes"
   ]
  },
  {
   "cell_type": "code",
   "execution_count": 48,
   "metadata": {},
   "outputs": [],
   "source": [
    "x=copy.drop(copy.columns[[1,3,4,5,6,7,8,9,10,11,12,13,14,15,16,17,18,19,20,21,22,23,24]], axis = 1, inplace = True)"
   ]
  },
  {
   "cell_type": "code",
   "execution_count": 49,
   "metadata": {},
   "outputs": [
    {
     "data": {
      "text/html": [
       "<div>\n",
       "<style scoped>\n",
       "    .dataframe tbody tr th:only-of-type {\n",
       "        vertical-align: middle;\n",
       "    }\n",
       "\n",
       "    .dataframe tbody tr th {\n",
       "        vertical-align: top;\n",
       "    }\n",
       "\n",
       "    .dataframe thead th {\n",
       "        text-align: right;\n",
       "    }\n",
       "</style>\n",
       "<table border=\"1\" class=\"dataframe\">\n",
       "  <thead>\n",
       "    <tr style=\"text-align: right;\">\n",
       "      <th></th>\n",
       "      <th>date</th>\n",
       "      <th>positive</th>\n",
       "    </tr>\n",
       "  </thead>\n",
       "  <tbody>\n",
       "    <tr>\n",
       "      <th>0</th>\n",
       "      <td>2020-07-24</td>\n",
       "      <td>4092928</td>\n",
       "    </tr>\n",
       "    <tr>\n",
       "      <th>1</th>\n",
       "      <td>2020-07-23</td>\n",
       "      <td>4017735</td>\n",
       "    </tr>\n",
       "    <tr>\n",
       "      <th>2</th>\n",
       "      <td>2020-07-22</td>\n",
       "      <td>3946708</td>\n",
       "    </tr>\n",
       "    <tr>\n",
       "      <th>3</th>\n",
       "      <td>2020-07-21</td>\n",
       "      <td>3877558</td>\n",
       "    </tr>\n",
       "    <tr>\n",
       "      <th>4</th>\n",
       "      <td>2020-07-20</td>\n",
       "      <td>3813916</td>\n",
       "    </tr>\n",
       "  </tbody>\n",
       "</table>\n",
       "</div>"
      ],
      "text/plain": [
       "        date  positive\n",
       "0 2020-07-24   4092928\n",
       "1 2020-07-23   4017735\n",
       "2 2020-07-22   3946708\n",
       "3 2020-07-21   3877558\n",
       "4 2020-07-20   3813916"
      ]
     },
     "execution_count": 49,
     "metadata": {},
     "output_type": "execute_result"
    }
   ],
   "source": [
    "copy.head()"
   ]
  },
  {
   "cell_type": "code",
   "execution_count": 54,
   "metadata": {},
   "outputs": [
    {
     "data": {
      "text/plain": [
       "<matplotlib.axes._subplots.AxesSubplot at 0x15e2c541108>"
      ]
     },
     "execution_count": 54,
     "metadata": {},
     "output_type": "execute_result"
    },
    {
     "data": {
      "image/png": "[encoded data removed]",
      "text/plain": [
       "<Figure size 432x288 with 1 Axes>"
      ]
     },
     "metadata": {
      "needs_background": "light"
     },
     "output_type": "display_data"
    }
   ],
   "source": [
    "copy.set_index('date', inplace=True)\n",
    "copy.index = pd.to_datetime(copy.index)\n",
    "copy.plot()"
   ]
  },
  {
   "cell_type": "code",
   "execution_count": 55,
   "metadata": {},
   "outputs": [],
   "source": [
    "copyn=daily_data.copy()\n",
    "copyn.drop(copyn.columns[[1,2,4,5,6,7,8,9,10,11,12,13,14,15,16,17,18,19,20,21,22,23,24]], axis = 1, inplace = True)"
   ]
  },
  {
   "cell_type": "code",
   "execution_count": 56,
   "metadata": {},
   "outputs": [
    {
     "data": {
      "text/plain": [
       "<matplotlib.axes._subplots.AxesSubplot at 0x15e2c2f3948>"
      ]
     },
     "execution_count": 56,
     "metadata": {},
     "output_type": "execute_result"
    },
    {
     "data": {
      "image/png": "[encoded data removed]",
      "text/plain": [
       "<Figure size 432x288 with 1 Axes>"
      ]
     },
     "metadata": {
      "needs_background": "light"
     },
     "output_type": "display_data"
    }
   ],
   "source": [
    "copyn.set_index('date', inplace=True)\n",
    "copyn.index = pd.to_datetime(copyn.index)\n",
    "copyn.plot()"
   ]
  },
  {
   "cell_type": "code",
   "execution_count": 57,
   "metadata": {},
   "outputs": [
    {
     "data": {
      "text/plain": [
       "<matplotlib.axes._subplots.AxesSubplot at 0x15e2c1bbec8>"
      ]
     },
     "execution_count": 57,
     "metadata": {},
     "output_type": "execute_result"
    },
    {
     "data": {
      "image/png": "[encoded data removed]",
      "text/plain": [
       "<Figure size 432x288 with 1 Axes>"
      ]
     },
     "metadata": {
      "needs_background": "light"
     },
     "output_type": "display_data"
    }
   ],
   "source": [
    "copyp=daily_data.copy()\n",
    "copyp.drop(copyp.columns[[1,2,3,5,6,7,8,9,10,11,12,13,14,15,16,17,18,19,20,21,22,23,24]], axis = 1, inplace = True)\n",
    "copyp.set_index('date', inplace=True)\n",
    "copyp.index = pd.to_datetime(copyp.index)\n",
    "copyp.plot()"
   ]
  },
  {
   "cell_type": "code",
   "execution_count": 58,
   "metadata": {},
   "outputs": [
    {
     "data": {
      "text/plain": [
       "<matplotlib.axes._subplots.AxesSubplot at 0x15e2b5eea08>"
      ]
     },
     "execution_count": 58,
     "metadata": {},
     "output_type": "execute_result"
    },
    {
     "data": {
      "image/png": "[encoded data removed]",
      "text/plain": [
       "<Figure size 432x288 with 1 Axes>"
      ]
     },
     "metadata": {
      "needs_background": "light"
     },
     "output_type": "display_data"
    }
   ],
   "source": [
    "copyh=daily_data.copy()\n",
    "copyh.drop(copyh.columns[[1,2,3,4,6,7,8,9,10,11,12,13,14,15,16,17,18,19,20,21,22,23,24]], axis = 1, inplace = True)\n",
    "copyh.set_index('date', inplace=True)\n",
    "copyh.index = pd.to_datetime(copyh.index)\n",
    "copyh.plot()"
   ]
  },
  {
   "cell_type": "code",
   "execution_count": 60,
   "metadata": {},
   "outputs": [
    {
     "data": {
      "text/plain": [
       "<matplotlib.axes._subplots.AxesSubplot at 0x15e2b7988c8>"
      ]
     },
     "execution_count": 60,
     "metadata": {},
     "output_type": "execute_result"
    },
    {
     "data": {
      "image/png": "[encoded data removed]",
      "text/plain": [
       "<Figure size 432x288 with 1 Axes>"
      ]
     },
     "metadata": {
      "needs_background": "light"
     },
     "output_type": "display_data"
    }
   ],
   "source": [
    "copyr=daily_data.copy()\n",
    "copyr.drop(copyr.columns[[1,2,3,4,6,7,8,9,10,5,12,13,14,15,16,17,18,19,20,21,22,23,24]], axis = 1, inplace = True)\n",
    "copyr.set_index('date', inplace=True)\n",
    "copyr.index = pd.to_datetime(copyr.index)\n",
    "copyr.plot()"
   ]
  },
  {
   "cell_type": "code",
   "execution_count": 61,
   "metadata": {},
   "outputs": [
    {
     "data": {
      "text/plain": [
       "<matplotlib.axes._subplots.AxesSubplot at 0x15e2b8ecac8>"
      ]
     },
     "execution_count": 61,
     "metadata": {},
     "output_type": "execute_result"
    },
    {
     "data": {
      "image/png": "[encoded data removed]",
      "text/plain": [
       "<Figure size 432x288 with 1 Axes>"
      ]
     },
     "metadata": {
      "needs_background": "light"
     },
     "output_type": "display_data"
    }
   ],
   "source": [
    "copyd=daily_data.copy()\n",
    "copyd.drop(copyd.columns[[1,2,3,4,6,7,8,9,10,5,12,11,14,15,16,17,18,19,20,21,22,23,24]], axis = 1, inplace = True)\n",
    "copyd.set_index('date', inplace=True)\n",
    "copyd.index = pd.to_datetime(copyd.index)\n",
    "copyd.plot()"
   ]
  },
  {
   "cell_type": "code",
   "execution_count": 62,
   "metadata": {},
   "outputs": [
    {
     "data": {
      "text/plain": [
       "<matplotlib.axes._subplots.AxesSubplot at 0x15e2bad57c8>"
      ]
     },
     "execution_count": 62,
     "metadata": {},
     "output_type": "execute_result"
    },
    {
     "data": {
      "image/png": "[encoded data removed]",
      "text/plain": [
       "<Figure size 432x288 with 1 Axes>"
      ]
     },
     "metadata": {
      "needs_background": "light"
     },
     "output_type": "display_data"
    }
   ],
   "source": [
    "copydi=daily_data.copy()\n",
    "copydi.drop(copydi.columns[[1,2,3,4,6,7,8,9,10,5,12,11,14,15,16,17,18,19,13,21,22,23,24]], axis = 1, inplace = True)\n",
    "copydi.set_index('date', inplace=True)\n",
    "copydi.index = pd.to_datetime(copydi.index)\n",
    "copydi.plot()"
   ]
  },
  {
   "cell_type": "code",
   "execution_count": 63,
   "metadata": {},
   "outputs": [
    {
     "data": {
      "text/plain": [
       "<matplotlib.axes._subplots.AxesSubplot at 0x15e2bbde8c8>"
      ]
     },
     "execution_count": 63,
     "metadata": {},
     "output_type": "execute_result"
    },
    {
     "data": {
      "image/png": "[encoded data removed]",
      "text/plain": [
       "<Figure size 432x288 with 1 Axes>"
      ]
     },
     "metadata": {
      "needs_background": "light"
     },
     "output_type": "display_data"
    }
   ],
   "source": [
    "copydh=daily_data.copy()\n",
    "copydh.drop(copydh.columns[[1,2,3,4,6,7,8,9,10,5,12,11,14,15,16,17,18,20,13,21,22,23,24]], axis = 1, inplace = True)\n",
    "copydh.set_index('date', inplace=True)\n",
    "copydh.index = pd.to_datetime(copydh.index)\n",
    "copydh.plot()"
   ]
  },
  {
   "cell_type": "code",
   "execution_count": 64,
   "metadata": {},
   "outputs": [
    {
     "data": {
      "text/plain": [
       "<matplotlib.axes._subplots.AxesSubplot at 0x15e29fef988>"
      ]
     },
     "execution_count": 64,
     "metadata": {},
     "output_type": "execute_result"
    },
    {
     "data": {
      "image/png": "[encoded data removed]",
      "text/plain": [
       "<Figure size 432x288 with 1 Axes>"
      ]
     },
     "metadata": {
      "needs_background": "light"
     },
     "output_type": "display_data"
    }
   ],
   "source": [
    "copypi=daily_data.copy()\n",
    "copypi.drop(copypi.columns[[1,2,3,4,6,7,8,9,10,5,12,11,14,15,16,17,18,19,20,21,13,23,24]], axis = 1, inplace = True)\n",
    "copypi.set_index('date', inplace=True)\n",
    "copypi.index = pd.to_datetime(copypi.index)\n",
    "copypi.plot()"
   ]
  },
  {
   "cell_type": "code",
   "execution_count": 66,
   "metadata": {},
   "outputs": [
    {
     "data": {
      "text/plain": [
       "<matplotlib.axes._subplots.AxesSubplot at 0x15e2bd00d48>"
      ]
     },
     "execution_count": 66,
     "metadata": {},
     "output_type": "execute_result"
    },
    {
     "data": {
      "image/png": "[encoded data removed]",
      "text/plain": [
       "<Figure size 432x288 with 1 Axes>"
      ]
     },
     "metadata": {
      "needs_background": "light"
     },
     "output_type": "display_data"
    }
   ],
   "source": [
    "copyni=daily_data.copy()\n",
    "copyni.drop(copyni.columns[[1,2,3,4,6,7,8,9,10,5,12,11,14,15,16,17,18,19,20,22,13,23,24]], axis = 1, inplace = True)\n",
    "copyni.set_index('date', inplace=True)\n",
    "copyni.index = pd.to_datetime(copyni.index)\n",
    "copyni.plot()"
   ]
  },
  {
   "cell_type": "code",
   "execution_count": null,
   "metadata": {},
   "outputs": [],
   "source": []
  }
 ],
 "metadata": {
  "kernelspec": {
   "display_name": "Python 3",
   "language": "python",
   "name": "python3"
  },
  "language_info": {
   "codemirror_mode": {
    "name": "ipython",
    "version": 3
   },
   "file_extension": ".py",
   "mimetype": "text/x-python",
   "name": "python",
   "nbconvert_exporter": "python",
   "pygments_lexer": "ipython3",
   "version": "3.7.6"
  }
 },
 "nbformat": 4,
 "nbformat_minor": 2
}
