{
 "cells": [
  {
   "cell_type": "code",
   "execution_count": 143,
   "metadata": {},
   "outputs": [],
   "source": [
    "import os\n",
    "import sys\n",
    "import math\n",
    "import pandas as pd\n",
    "import numpy as np\n",
    "import matplotlib.pyplot as plt\n",
    "from sklearn.metrics import mean_squared_error"
   ]
  },
  {
   "cell_type": "code",
   "execution_count": 144,
   "metadata": {},
   "outputs": [],
   "source": [
    "daily_data = pd.read_csv('data/daily.csv')\n",
    "govt_measures = pd.read_excel('data/acaps_covid19_government_measures_dataset.xlsx', sheet_name='Database')\n",
    "daily_tests = pd.read_csv('data/full-list-covid-19-tests-per-day.csv')"
   ]
  },
  {
   "cell_type": "code",
   "execution_count": 145,
   "metadata": {},
   "outputs": [],
   "source": [
    "daily_data.sort_values('date',inplace=True)"
   ]
  },
  {
   "cell_type": "code",
   "execution_count": 146,
   "metadata": {},
   "outputs": [
    {
     "data": {
      "text/html": [
       "<div>\n",
       "<style scoped>\n",
       "    .dataframe tbody tr th:only-of-type {\n",
       "        vertical-align: middle;\n",
       "    }\n",
       "\n",
       "    .dataframe tbody tr th {\n",
       "        vertical-align: top;\n",
       "    }\n",
       "\n",
       "    .dataframe thead th {\n",
       "        text-align: right;\n",
       "    }\n",
       "</style>\n",
       "<table border=\"1\" class=\"dataframe\">\n",
       "  <thead>\n",
       "    <tr style=\"text-align: right;\">\n",
       "      <th></th>\n",
       "      <th>Entity</th>\n",
       "      <th>Code</th>\n",
       "      <th>Date</th>\n",
       "      <th>New tests</th>\n",
       "    </tr>\n",
       "  </thead>\n",
       "  <tbody>\n",
       "    <tr>\n",
       "      <th>0</th>\n",
       "      <td>Argentina</td>\n",
       "      <td>ARG</td>\n",
       "      <td>Feb 11, 2020</td>\n",
       "      <td>2</td>\n",
       "    </tr>\n",
       "    <tr>\n",
       "      <th>1</th>\n",
       "      <td>Argentina</td>\n",
       "      <td>ARG</td>\n",
       "      <td>Feb 20, 2020</td>\n",
       "      <td>2</td>\n",
       "    </tr>\n",
       "    <tr>\n",
       "      <th>2</th>\n",
       "      <td>Argentina</td>\n",
       "      <td>ARG</td>\n",
       "      <td>Feb 25, 2020</td>\n",
       "      <td>1</td>\n",
       "    </tr>\n",
       "    <tr>\n",
       "      <th>3</th>\n",
       "      <td>Argentina</td>\n",
       "      <td>ARG</td>\n",
       "      <td>Feb 27, 2020</td>\n",
       "      <td>5</td>\n",
       "    </tr>\n",
       "    <tr>\n",
       "      <th>4</th>\n",
       "      <td>Argentina</td>\n",
       "      <td>ARG</td>\n",
       "      <td>Feb 28, 2020</td>\n",
       "      <td>9</td>\n",
       "    </tr>\n",
       "  </tbody>\n",
       "</table>\n",
       "</div>"
      ],
      "text/plain": [
       "      Entity Code          Date  New tests\n",
       "0  Argentina  ARG  Feb 11, 2020          2\n",
       "1  Argentina  ARG  Feb 20, 2020          2\n",
       "2  Argentina  ARG  Feb 25, 2020          1\n",
       "3  Argentina  ARG  Feb 27, 2020          5\n",
       "4  Argentina  ARG  Feb 28, 2020          9"
      ]
     },
     "execution_count": 146,
     "metadata": {},
     "output_type": "execute_result"
    }
   ],
   "source": [
    "daily_tests.head()"
   ]
  },
  {
   "cell_type": "code",
   "execution_count": 147,
   "metadata": {},
   "outputs": [],
   "source": [
    "# Convert date to datetime object \n",
    "daily_data['date'] = pd.to_datetime(daily_data['date'], format='%Y%m%d')\n",
    "daily_tests['Date'] = pd.to_datetime(daily_tests['Date'], format='%b %d, %Y')"
   ]
  },
  {
   "cell_type": "code",
   "execution_count": 148,
   "metadata": {},
   "outputs": [],
   "source": [
    "# Filter only for United States\n",
    "govt_measures = govt_measures[govt_measures['COUNTRY'] == 'United States of America']\n",
    "daily_tests = daily_tests[daily_tests['Entity'] == 'United States']"
   ]
  },
  {
   "cell_type": "code",
   "execution_count": 149,
   "metadata": {},
   "outputs": [],
   "source": [
    "#daily_data.merge(govt_measures, left_on='date', right_on='DATE_IMPLEMENTED', how='left')"
   ]
  },
  {
   "cell_type": "code",
   "execution_count": 150,
   "metadata": {},
   "outputs": [],
   "source": [
    "daily_data = daily_data.merge(daily_tests, left_on='date', right_on='Date', how='left')"
   ]
  },
  {
   "cell_type": "code",
   "execution_count": 151,
   "metadata": {},
   "outputs": [
    {
     "data": {
      "text/plain": [
       "Index(['date', 'states', 'positive', 'negative', 'pending',\n",
       "       'hospitalizedCurrently', 'hospitalizedCumulative', 'inIcuCurrently',\n",
       "       'inIcuCumulative', 'onVentilatorCurrently', 'onVentilatorCumulative',\n",
       "       'recovered', 'dateChecked', 'death', 'hospitalized', 'lastModified',\n",
       "       'total', 'totalTestResults', 'posNeg', 'deathIncrease',\n",
       "       'hospitalizedIncrease', 'negativeIncrease', 'positiveIncrease',\n",
       "       'totalTestResultsIncrease', 'hash', 'Entity', 'Code', 'Date',\n",
       "       'New tests'],\n",
       "      dtype='object')"
      ]
     },
     "execution_count": 151,
     "metadata": {},
     "output_type": "execute_result"
    }
   ],
   "source": [
    "daily_data.columns"
   ]
  },
  {
   "cell_type": "code",
   "execution_count": 152,
   "metadata": {},
   "outputs": [],
   "source": [
    "feature_names = ['date','positive','totalTestResultsIncrease']\n",
    "daily_data = daily_data[feature_names]"
   ]
  },
  {
   "cell_type": "code",
   "execution_count": 153,
   "metadata": {},
   "outputs": [],
   "source": [
    "x = daily_data.copy()\n",
    "x.index = x.date\n",
    "x.drop('date',axis=1,inplace=True)"
   ]
  },
  {
   "cell_type": "code",
   "execution_count": 154,
   "metadata": {},
   "outputs": [],
   "source": [
    "train = x[:int(0.8*(len(x)))]\n",
    "valid = x[int(0.8*(len(x))):]"
   ]
  },
  {
   "cell_type": "markdown",
   "metadata": {},
   "source": [
    "### Model 1 (VAR)"
   ]
  },
  {
   "cell_type": "code",
   "execution_count": 155,
   "metadata": {},
   "outputs": [
    {
     "name": "stderr",
     "output_type": "stream",
     "text": [
      "/Users/anuragsharma/anaconda3/lib/python3.6/site-packages/statsmodels/tsa/base/tsa_model.py:171: ValueWarning: No frequency information was provided, so inferred frequency D will be used.\n",
      "  % freq, ValueWarning)\n"
     ]
    }
   ],
   "source": [
    "from statsmodels.tsa.vector_ar.var_model import VAR\n",
    "\n",
    "model = VAR(endog=train)\n",
    "model_fit = model.fit()"
   ]
  },
  {
   "cell_type": "code",
   "execution_count": 156,
   "metadata": {},
   "outputs": [],
   "source": [
    "prediction = model_fit.forecast(model_fit.y, steps=len(valid))"
   ]
  },
  {
   "cell_type": "code",
   "execution_count": 157,
   "metadata": {},
   "outputs": [
    {
     "name": "stdout",
     "output_type": "stream",
     "text": [
      "rmse value for Positive cases is :  2406051.7536559775\n"
     ]
    }
   ],
   "source": [
    "pred = pd.DataFrame(index=range(0,len(prediction)),columns=[cols])\n",
    "for j in range(0,2):\n",
    "    for i in range(0, len(prediction)):\n",
    "       pred.iloc[i][j] = prediction[i][j]\n",
    "\n",
    "#check rmse\n",
    "#for i in cols:\n",
    "print('rmse value for Positive cases is : ', math.sqrt(mean_squared_error(pred['positive'], valid['positive'])))"
   ]
  },
  {
   "cell_type": "code",
   "execution_count": 158,
   "metadata": {},
   "outputs": [
    {
     "name": "stdout",
     "output_type": "stream",
     "text": [
      "[[4160298.87673752  933769.4387666 ]\n",
      " [4228225.03916058  943718.56661761]\n",
      " [4296963.14637111  956490.76429587]\n",
      " [4366636.7943017   970654.04308099]\n",
      " [4437309.98274095  985567.54769548]\n",
      " [4509020.09077527 1000945.52808336]\n",
      " [4581792.67877185 1016661.64105213]\n",
      " [4655648.13375384 1032661.11709234]\n",
      " [4730604.65394474 1048921.33939708]\n",
      " [4806679.59028298 1065434.15131619]\n",
      " [4883890.05053936 1082197.91600222]\n",
      " [4962253.17250509 1099213.95305466]\n",
      " [5041786.24868207 1116484.939661  ]\n",
      " [5122506.78435544 1134014.19345269]\n",
      " [5204432.52579792 1151805.35110041]\n",
      " [5287581.47510086 1169862.22453242]\n",
      " [5371971.89903526 1188188.73688115]\n",
      " [5457622.33526645 1206788.89422048]\n",
      " [5544551.59741429 1225666.7733741 ]\n",
      " [5632778.7796292  1244826.51694411]\n",
      " [5722323.26098527 1264272.33158777]\n",
      " [5813204.70982621 1284008.4877597 ]\n",
      " [5905443.08812558 1304039.32011944]\n",
      " [5999058.65588938 1324369.22824547]\n",
      " [6094071.97561425 1345002.67749473]\n",
      " [6190503.91680756 1365944.19993549]\n",
      " [6288375.66057302 1387198.39532126]\n",
      " [6387708.70426379 1408769.93209145]\n",
      " [6488524.86620468 1430663.54839249]\n",
      " [6590846.29048461 1452884.05311658]]\n"
     ]
    },
    {
     "name": "stderr",
     "output_type": "stream",
     "text": [
      "/Users/anuragsharma/anaconda3/lib/python3.6/site-packages/statsmodels/tsa/base/tsa_model.py:171: ValueWarning: No frequency information was provided, so inferred frequency D will be used.\n",
      "  % freq, ValueWarning)\n"
     ]
    }
   ],
   "source": [
    "model = VAR(endog=x)\n",
    "model_fit = model.fit()\n",
    "yhat = model_fit.forecast(model_fit.y, steps=30)\n",
    "print(yhat)"
   ]
  },
  {
   "cell_type": "code",
   "execution_count": 159,
   "metadata": {},
   "outputs": [],
   "source": [
    "forecast = []\n",
    "for i in yhat:\n",
    "    forecast.append(i[0])"
   ]
  },
  {
   "cell_type": "code",
   "execution_count": 160,
   "metadata": {},
   "outputs": [
    {
     "data": {
      "text/plain": [
       "<matplotlib.axes._subplots.AxesSubplot at 0x1a1da889e8>"
      ]
     },
     "execution_count": 160,
     "metadata": {},
     "output_type": "execute_result"
    },
    {
     "data": {
      "image/png": "[encoded data removed]",
      "text/plain": [
       "<Figure size 432x288 with 1 Axes>"
      ]
     },
     "metadata": {
      "needs_background": "light"
     },
     "output_type": "display_data"
    }
   ],
   "source": [
    "pd.Series(forecast).plot()"
   ]
  },
  {
   "cell_type": "markdown",
   "metadata": {},
   "source": [
    "### Model 2 (ARIMAX)"
   ]
  },
  {
   "cell_type": "code",
   "execution_count": 161,
   "metadata": {},
   "outputs": [
    {
     "name": "stderr",
     "output_type": "stream",
     "text": [
      "/Users/anuragsharma/anaconda3/lib/python3.6/site-packages/statsmodels/tsa/base/tsa_model.py:171: ValueWarning: No frequency information was provided, so inferred frequency D will be used.\n",
      "  % freq, ValueWarning)\n",
      "/Users/anuragsharma/anaconda3/lib/python3.6/site-packages/statsmodels/tsa/base/tsa_model.py:171: ValueWarning: No frequency information was provided, so inferred frequency D will be used.\n",
      "  % freq, ValueWarning)\n"
     ]
    }
   ],
   "source": [
    "from statsmodels.tsa.arima_model import ARIMA\n",
    "\n",
    "model = ARIMA(train.positive, exog=train.totalTestResultsIncrease, order=(1,1,1))\n",
    "model_fit = model.fit()"
   ]
  },
  {
   "cell_type": "code",
   "execution_count": 162,
   "metadata": {},
   "outputs": [
    {
     "data": {
      "text/html": [
       "<table class=\"simpletable\">\n",
       "<caption>ARIMA Model Results</caption>\n",
       "<tr>\n",
       "  <th>Dep. Variable:</th>    <td>D.positive</td>    <th>  No. Observations:  </th>    <td>147</td>   \n",
       "</tr>\n",
       "<tr>\n",
       "  <th>Model:</th>          <td>ARIMA(1, 1, 1)</td>  <th>  Log Likelihood     </th> <td>-1331.383</td>\n",
       "</tr>\n",
       "<tr>\n",
       "  <th>Method:</th>             <td>css-mle</td>     <th>  S.D. of innovations</th> <td>2052.785</td> \n",
       "</tr>\n",
       "<tr>\n",
       "  <th>Date:</th>          <td>Sun, 26 Jul 2020</td> <th>  AIC                </th> <td>2672.766</td> \n",
       "</tr>\n",
       "<tr>\n",
       "  <th>Time:</th>              <td>21:28:13</td>     <th>  BIC                </th> <td>2687.718</td> \n",
       "</tr>\n",
       "<tr>\n",
       "  <th>Sample:</th>           <td>01-23-2020</td>    <th>  HQIC               </th> <td>2678.841</td> \n",
       "</tr>\n",
       "<tr>\n",
       "  <th></th>                 <td>- 06-17-2020</td>   <th>                     </th>     <td> </td>    \n",
       "</tr>\n",
       "</table>\n",
       "<table class=\"simpletable\">\n",
       "<tr>\n",
       "              <td></td>                <th>coef</th>     <th>std err</th>      <th>z</th>      <th>P>|z|</th>  <th>[0.025</th>    <th>0.975]</th>  \n",
       "</tr>\n",
       "<tr>\n",
       "  <th>const</th>                    <td> 6184.8158</td> <td> 8704.390</td> <td>    0.711</td> <td> 0.479</td> <td>-1.09e+04</td> <td> 2.32e+04</td>\n",
       "</tr>\n",
       "<tr>\n",
       "  <th>totalTestResultsIncrease</th> <td>    0.0200</td> <td>    0.005</td> <td>    4.204</td> <td> 0.000</td> <td>    0.011</td> <td>    0.029</td>\n",
       "</tr>\n",
       "<tr>\n",
       "  <th>ar.L1.D.positive</th>         <td>    0.9780</td> <td>    0.019</td> <td>   50.496</td> <td> 0.000</td> <td>    0.940</td> <td>    1.016</td>\n",
       "</tr>\n",
       "<tr>\n",
       "  <th>ma.L1.D.positive</th>         <td>    0.0706</td> <td>    0.095</td> <td>    0.745</td> <td> 0.457</td> <td>   -0.115</td> <td>    0.256</td>\n",
       "</tr>\n",
       "</table>\n",
       "<table class=\"simpletable\">\n",
       "<caption>Roots</caption>\n",
       "<tr>\n",
       "    <td></td>   <th>            Real</th>  <th>         Imaginary</th> <th>         Modulus</th>  <th>        Frequency</th>\n",
       "</tr>\n",
       "<tr>\n",
       "  <th>AR.1</th> <td>           1.0225</td> <td>          +0.0000j</td> <td>           1.0225</td> <td>           0.0000</td>\n",
       "</tr>\n",
       "<tr>\n",
       "  <th>MA.1</th> <td>         -14.1617</td> <td>          +0.0000j</td> <td>          14.1617</td> <td>           0.5000</td>\n",
       "</tr>\n",
       "</table>"
      ],
      "text/plain": [
       "<class 'statsmodels.iolib.summary.Summary'>\n",
       "\"\"\"\n",
       "                             ARIMA Model Results                              \n",
       "==============================================================================\n",
       "Dep. Variable:             D.positive   No. Observations:                  147\n",
       "Model:                 ARIMA(1, 1, 1)   Log Likelihood               -1331.383\n",
       "Method:                       css-mle   S.D. of innovations           2052.785\n",
       "Date:                Sun, 26 Jul 2020   AIC                           2672.766\n",
       "Time:                        21:28:13   BIC                           2687.718\n",
       "Sample:                    01-23-2020   HQIC                          2678.841\n",
       "                         - 06-17-2020                                         \n",
       "============================================================================================\n",
       "                               coef    std err          z      P>|z|      [0.025      0.975]\n",
       "--------------------------------------------------------------------------------------------\n",
       "const                     6184.8158   8704.390      0.711      0.479   -1.09e+04    2.32e+04\n",
       "totalTestResultsIncrease     0.0200      0.005      4.204      0.000       0.011       0.029\n",
       "ar.L1.D.positive             0.9780      0.019     50.496      0.000       0.940       1.016\n",
       "ma.L1.D.positive             0.0706      0.095      0.745      0.457      -0.115       0.256\n",
       "                                    Roots                                    \n",
       "=============================================================================\n",
       "                  Real          Imaginary           Modulus         Frequency\n",
       "-----------------------------------------------------------------------------\n",
       "AR.1            1.0225           +0.0000j            1.0225            0.0000\n",
       "MA.1          -14.1617           +0.0000j           14.1617            0.5000\n",
       "-----------------------------------------------------------------------------\n",
       "\"\"\""
      ]
     },
     "execution_count": 162,
     "metadata": {},
     "output_type": "execute_result"
    }
   ],
   "source": [
    "model_fit.summary()"
   ]
  },
  {
   "cell_type": "code",
   "execution_count": null,
   "metadata": {},
   "outputs": [],
   "source": []
  }
 ],
 "metadata": {
  "kernelspec": {
   "display_name": "Python 3",
   "language": "python",
   "name": "python3"
  },
  "language_info": {
   "codemirror_mode": {
    "name": "ipython",
    "version": 3
   },
   "file_extension": ".py",
   "mimetype": "text/x-python",
   "name": "python",
   "nbconvert_exporter": "python",
   "pygments_lexer": "ipython3",
   "version": "3.6.5"
  }
 },
 "nbformat": 4,
 "nbformat_minor": 2
}
