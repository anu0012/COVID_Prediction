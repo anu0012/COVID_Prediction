{
 "cells": [
  {
   "cell_type": "code",
   "execution_count": 230,
   "metadata": {},
   "outputs": [],
   "source": [
    "import os\n",
    "import sys\n",
    "import math\n",
    "import pandas as pd\n",
    "import numpy as np\n",
    "import matplotlib.pyplot as plt\n",
    "from sklearn.metrics import mean_squared_error"
   ]
  },
  {
   "cell_type": "code",
   "execution_count": 231,
   "metadata": {},
   "outputs": [],
   "source": [
    "daily_data = pd.read_csv('data/daily.csv')\n",
    "govt_measures = pd.read_excel('data/acaps_covid19_government_measures_dataset.xlsx', sheet_name='Database')\n",
    "daily_tests = pd.read_csv('data/full-list-covid-19-tests-per-day.csv')\n",
    "lockdown_data = pd.read_excel('data/lockdown_data.xlsx')\n",
    "owid_data = pd.read_excel('data/owid-covid-data.xlsx')"
   ]
  },
  {
   "cell_type": "code",
   "execution_count": 232,
   "metadata": {},
   "outputs": [],
   "source": [
    "daily_data.sort_values('date',inplace=True)"
   ]
  },
  {
   "cell_type": "code",
   "execution_count": 233,
   "metadata": {},
   "outputs": [
    {
     "data": {
      "text/plain": [
       "Index(['iso_code', 'continent', 'location', 'date', 'total_cases', 'new_cases',\n",
       "       'total_deaths', 'new_deaths', 'total_cases_per_million',\n",
       "       'new_cases_per_million', 'total_deaths_per_million',\n",
       "       'new_deaths_per_million', 'total_tests', 'new_tests',\n",
       "       'total_tests_per_thousand', 'new_tests_per_thousand',\n",
       "       'new_tests_smoothed', 'new_tests_smoothed_per_thousand', 'tests_units',\n",
       "       'stringency_index', 'population', 'population_density', 'median_age',\n",
       "       'aged_65_older', 'aged_70_older', 'gdp_per_capita', 'extreme_poverty',\n",
       "       'cardiovasc_death_rate', 'diabetes_prevalence', 'female_smokers',\n",
       "       'male_smokers', 'handwashing_facilities', 'hospital_beds_per_thousand',\n",
       "       'life_expectancy'],\n",
       "      dtype='object')"
      ]
     },
     "execution_count": 233,
     "metadata": {},
     "output_type": "execute_result"
    }
   ],
   "source": [
    "owid_data.columns"
   ]
  },
  {
   "cell_type": "code",
   "execution_count": 234,
   "metadata": {},
   "outputs": [],
   "source": [
    "# Convert date to datetime object \n",
    "daily_data['date'] = pd.to_datetime(daily_data['date'], format='%Y%m%d')\n",
    "daily_tests['Date'] = pd.to_datetime(daily_tests['Date'], format='%b %d, %Y')\n",
    "owid_data['date'] = pd.to_datetime(owid_data['date'], format='%Y-%m-%d')"
   ]
  },
  {
   "cell_type": "code",
   "execution_count": 235,
   "metadata": {},
   "outputs": [],
   "source": [
    "# Filter only for United States\n",
    "govt_measures = govt_measures[govt_measures['COUNTRY'] == 'United States of America']\n",
    "daily_tests = daily_tests[daily_tests['Entity'] == 'United States']\n",
    "owid_data = owid_data[owid_data['location'] == 'United States']"
   ]
  },
  {
   "cell_type": "code",
   "execution_count": 236,
   "metadata": {},
   "outputs": [],
   "source": [
    "#daily_data.merge(govt_measures, left_on='date', right_on='DATE_IMPLEMENTED', how='left')"
   ]
  },
  {
   "cell_type": "code",
   "execution_count": 237,
   "metadata": {},
   "outputs": [],
   "source": [
    "daily_data = daily_data.merge(daily_tests, left_on='date', right_on='Date', how='left')\n",
    "daily_data = daily_data.merge(lockdown_data, on='date', how='left')\n",
    "daily_data = daily_data.merge(owid_data[['date','stringency_index']], on='date', how='left')"
   ]
  },
  {
   "cell_type": "code",
   "execution_count": 238,
   "metadata": {},
   "outputs": [
    {
     "data": {
      "text/plain": [
       "Index(['date', 'states', 'positive', 'negative', 'pending',\n",
       "       'hospitalizedCurrently', 'hospitalizedCumulative', 'inIcuCurrently',\n",
       "       'inIcuCumulative', 'onVentilatorCurrently', 'onVentilatorCumulative',\n",
       "       'recovered', 'dateChecked', 'death', 'hospitalized', 'lastModified',\n",
       "       'total', 'totalTestResults', 'posNeg', 'deathIncrease',\n",
       "       'hospitalizedIncrease', 'negativeIncrease', 'positiveIncrease',\n",
       "       'totalTestResultsIncrease', 'hash', 'Entity', 'Code', 'Date',\n",
       "       'New tests', 'is_lockdown', 'stringency_index'],\n",
       "      dtype='object')"
      ]
     },
     "execution_count": 238,
     "metadata": {},
     "output_type": "execute_result"
    }
   ],
   "source": [
    "daily_data.columns"
   ]
  },
  {
   "cell_type": "code",
   "execution_count": 239,
   "metadata": {},
   "outputs": [],
   "source": [
    "feature_names = ['date','positive','totalTestResultsIncrease','is_lockdown','stringency_index']\n",
    "daily_data = daily_data[feature_names]"
   ]
  },
  {
   "cell_type": "code",
   "execution_count": 240,
   "metadata": {},
   "outputs": [],
   "source": [
    "x = daily_data.copy()\n",
    "x.index = x.date\n",
    "x.drop('date',axis=1,inplace=True)"
   ]
  },
  {
   "cell_type": "code",
   "execution_count": 241,
   "metadata": {},
   "outputs": [],
   "source": [
    "train = x[:int(0.8*(len(x)))]\n",
    "valid = x[int(0.8*(len(x))):]"
   ]
  },
  {
   "cell_type": "markdown",
   "metadata": {},
   "source": [
    "### Model 1 (VAR)"
   ]
  },
  {
   "cell_type": "code",
   "execution_count": 242,
   "metadata": {},
   "outputs": [
    {
     "name": "stderr",
     "output_type": "stream",
     "text": [
      "/Users/anuragsharma/anaconda3/lib/python3.6/site-packages/statsmodels/tsa/base/tsa_model.py:171: ValueWarning: No frequency information was provided, so inferred frequency D will be used.\n",
      "  % freq, ValueWarning)\n"
     ]
    }
   ],
   "source": [
    "from statsmodels.tsa.vector_ar.var_model import VAR\n",
    "\n",
    "model = VAR(endog=train)\n",
    "model_fit = model.fit()"
   ]
  },
  {
   "cell_type": "code",
   "execution_count": 243,
   "metadata": {},
   "outputs": [],
   "source": [
    "prediction = model_fit.forecast(model_fit.y, steps=len(valid))"
   ]
  },
  {
   "cell_type": "code",
   "execution_count": 244,
   "metadata": {},
   "outputs": [
    {
     "name": "stdout",
     "output_type": "stream",
     "text": [
      "rmse value for Positive cases is :  2503147.3299019733\n"
     ]
    }
   ],
   "source": [
    "pred = pd.DataFrame(index=range(0,len(prediction)),columns=[cols])\n",
    "for j in range(0,2):\n",
    "    for i in range(0, len(prediction)):\n",
    "       pred.iloc[i][j] = prediction[i][j]\n",
    "\n",
    "#check rmse\n",
    "#for i in cols:\n",
    "print('rmse value for Positive cases is : ', math.sqrt(mean_squared_error(pred['positive'], valid['positive'])))"
   ]
  },
  {
   "cell_type": "code",
   "execution_count": 245,
   "metadata": {},
   "outputs": [
    {
     "name": "stdout",
     "output_type": "stream",
     "text": [
      "[[ 4.15580045e+06  9.14783497e+05 -4.50982433e-02  6.79707692e+01]\n",
      " [ 4.21895204e+06  9.17881422e+05 -9.04713760e-02  6.70585658e+01]\n",
      " [ 4.28254734e+06  9.27309440e+05 -1.35791661e-01  6.61816248e+01]\n",
      " [ 4.34664891e+06  9.38991408e+05 -1.80967193e-01  6.53182345e+01]\n",
      " [ 4.41128404e+06  9.51522641e+05 -2.25986505e-01  6.44605140e+01]\n",
      " [ 4.47646780e+06  9.64419769e+05 -2.70865026e-01  6.36053693e+01]\n",
      " [ 4.54221095e+06  9.77517146e+05 -3.15626650e-01  6.27513724e+01]\n",
      " [ 4.60852273e+06  9.90758696e+05 -3.60297424e-01  6.18976854e+01]\n",
      " [ 4.67541179e+06  1.00412612e+06 -4.04903406e-01  6.10436878e+01]\n",
      " [ 4.74288649e+06  1.01761413e+06 -4.49469962e-01  6.01888477e+01]\n",
      " [ 4.81095509e+06  1.03122194e+06 -4.94021560e-01  5.93326766e+01]\n",
      " [ 4.87962574e+06  1.04495029e+06 -5.38581726e-01  5.84747135e+01]\n",
      " [ 4.94890651e+06  1.05880045e+06 -5.83173066e-01  5.76145180e+01]\n",
      " [ 5.01880544e+06  1.07277385e+06 -6.27817300e-01  5.67516682e+01]\n",
      " [ 5.08933047e+06  1.08687201e+06 -6.72535301e-01  5.58857591e+01]\n",
      " [ 5.16048952e+06  1.10109642e+06 -7.17347135e-01  5.50164012e+01]\n",
      " [ 5.23229047e+06  1.11544862e+06 -7.62272104e-01  5.41432202e+01]\n",
      " [ 5.30474115e+06  1.12993012e+06 -8.07328782e-01  5.32658558e+01]\n",
      " [ 5.37784937e+06  1.14454241e+06 -8.52535050e-01  5.23839612e+01]\n",
      " [ 5.45162289e+06  1.15928702e+06 -8.97908131e-01  5.14972021e+01]\n",
      " [ 5.52606947e+06  1.17416545e+06 -9.43464626e-01  5.06052567e+01]\n",
      " [ 5.60119684e+06  1.18917921e+06 -9.89220542e-01  4.97078142e+01]\n",
      " [ 5.67701272e+06  1.20432979e+06 -1.03519132e+00  4.88045752e+01]\n",
      " [ 5.75352482e+06  1.21961870e+06 -1.08139188e+00  4.78952501e+01]\n",
      " [ 5.83074084e+06  1.23504744e+06 -1.12783662e+00  4.69795594e+01]\n",
      " [ 5.90866848e+06  1.25061752e+06 -1.17453945e+00  4.60572329e+01]\n",
      " [ 5.98731543e+06  1.26633045e+06 -1.22151386e+00  4.51280089e+01]\n",
      " [ 6.06668942e+06  1.28218774e+06 -1.26877287e+00  4.41916344e+01]\n",
      " [ 6.14679814e+06  1.29819089e+06 -1.31632910e+00  4.32478639e+01]\n",
      " [ 6.22764932e+06  1.31434143e+06 -1.36419480e+00  4.22964597e+01]]\n"
     ]
    },
    {
     "name": "stderr",
     "output_type": "stream",
     "text": [
      "/Users/anuragsharma/anaconda3/lib/python3.6/site-packages/statsmodels/tsa/base/tsa_model.py:171: ValueWarning: No frequency information was provided, so inferred frequency D will be used.\n",
      "  % freq, ValueWarning)\n"
     ]
    }
   ],
   "source": [
    "model = VAR(endog=x)\n",
    "model_fit = model.fit()\n",
    "yhat = model_fit.forecast(model_fit.y, steps=30)\n",
    "print(yhat)"
   ]
  },
  {
   "cell_type": "code",
   "execution_count": 246,
   "metadata": {},
   "outputs": [],
   "source": [
    "forecast = []\n",
    "for i in yhat:\n",
    "    forecast.append(i[0])"
   ]
  },
  {
   "cell_type": "code",
   "execution_count": 247,
   "metadata": {},
   "outputs": [
    {
     "data": {
      "text/plain": [
       "<matplotlib.axes._subplots.AxesSubplot at 0x1a1b977f28>"
      ]
     },
     "execution_count": 247,
     "metadata": {},
     "output_type": "execute_result"
    },
    {
     "data": {
      "image/png": "[encoded data removed]",
      "text/plain": [
       "<Figure size 432x288 with 1 Axes>"
      ]
     },
     "metadata": {
      "needs_background": "light"
     },
     "output_type": "display_data"
    }
   ],
   "source": [
    "pd.Series(forecast).plot()"
   ]
  },
  {
   "cell_type": "code",
   "execution_count": 248,
   "metadata": {},
   "outputs": [
    {
     "data": {
      "text/plain": [
       "DatetimeIndex(['2020-07-25', '2020-07-26', '2020-07-27', '2020-07-28',\n",
       "               '2020-07-29', '2020-07-30', '2020-07-31', '2020-08-01',\n",
       "               '2020-08-02', '2020-08-03', '2020-08-04', '2020-08-05',\n",
       "               '2020-08-06', '2020-08-07', '2020-08-08', '2020-08-09',\n",
       "               '2020-08-10', '2020-08-11', '2020-08-12', '2020-08-13',\n",
       "               '2020-08-14', '2020-08-15', '2020-08-16', '2020-08-17',\n",
       "               '2020-08-18', '2020-08-19', '2020-08-20', '2020-08-21',\n",
       "               '2020-08-22', '2020-08-23'],\n",
       "              dtype='datetime64[ns]', freq='D')"
      ]
     },
     "execution_count": 248,
     "metadata": {},
     "output_type": "execute_result"
    }
   ],
   "source": [
    "pd.date_range(start='25/7/2020', periods=30)"
   ]
  },
  {
   "cell_type": "code",
   "execution_count": 249,
   "metadata": {},
   "outputs": [],
   "source": [
    "# result output\n",
    "result = pd.DataFrame()\n",
    "result['date'] = pd.date_range(start='25/7/2020', periods=30)\n",
    "result['number_of_positives'] = forecast"
   ]
  },
  {
   "cell_type": "code",
   "execution_count": 250,
   "metadata": {},
   "outputs": [],
   "source": [
    "result = result[(result['date'] >= '27/7/2020') & (result['date'] <= '15/8/2020')]\n",
    "result.to_csv('result.csv',index=False)"
   ]
  },
  {
   "cell_type": "markdown",
   "metadata": {},
   "source": [
    "### Model 2 (ARIMAX)"
   ]
  },
  {
   "cell_type": "code",
   "execution_count": 251,
   "metadata": {},
   "outputs": [
    {
     "name": "stderr",
     "output_type": "stream",
     "text": [
      "/Users/anuragsharma/anaconda3/lib/python3.6/site-packages/statsmodels/tsa/base/tsa_model.py:171: ValueWarning: No frequency information was provided, so inferred frequency D will be used.\n",
      "  % freq, ValueWarning)\n",
      "/Users/anuragsharma/anaconda3/lib/python3.6/site-packages/statsmodels/tsa/base/tsa_model.py:171: ValueWarning: No frequency information was provided, so inferred frequency D will be used.\n",
      "  % freq, ValueWarning)\n"
     ]
    }
   ],
   "source": [
    "from statsmodels.tsa.arima_model import ARIMA\n",
    "\n",
    "model = ARIMA(train.positive, exog=train.totalTestResultsIncrease, order=(1,1,1))\n",
    "model_fit = model.fit()"
   ]
  },
  {
   "cell_type": "code",
   "execution_count": 252,
   "metadata": {},
   "outputs": [
    {
     "data": {
      "text/html": [
       "<table class=\"simpletable\">\n",
       "<caption>ARIMA Model Results</caption>\n",
       "<tr>\n",
       "  <th>Dep. Variable:</th>    <td>D.positive</td>    <th>  No. Observations:  </th>    <td>147</td>   \n",
       "</tr>\n",
       "<tr>\n",
       "  <th>Model:</th>          <td>ARIMA(1, 1, 1)</td>  <th>  Log Likelihood     </th> <td>-1331.383</td>\n",
       "</tr>\n",
       "<tr>\n",
       "  <th>Method:</th>             <td>css-mle</td>     <th>  S.D. of innovations</th> <td>2052.785</td> \n",
       "</tr>\n",
       "<tr>\n",
       "  <th>Date:</th>          <td>Mon, 27 Jul 2020</td> <th>  AIC                </th> <td>2672.766</td> \n",
       "</tr>\n",
       "<tr>\n",
       "  <th>Time:</th>              <td>01:24:02</td>     <th>  BIC                </th> <td>2687.718</td> \n",
       "</tr>\n",
       "<tr>\n",
       "  <th>Sample:</th>           <td>01-23-2020</td>    <th>  HQIC               </th> <td>2678.841</td> \n",
       "</tr>\n",
       "<tr>\n",
       "  <th></th>                 <td>- 06-17-2020</td>   <th>                     </th>     <td> </td>    \n",
       "</tr>\n",
       "</table>\n",
       "<table class=\"simpletable\">\n",
       "<tr>\n",
       "              <td></td>                <th>coef</th>     <th>std err</th>      <th>z</th>      <th>P>|z|</th>  <th>[0.025</th>    <th>0.975]</th>  \n",
       "</tr>\n",
       "<tr>\n",
       "  <th>const</th>                    <td> 6184.8158</td> <td> 8704.390</td> <td>    0.711</td> <td> 0.479</td> <td>-1.09e+04</td> <td> 2.32e+04</td>\n",
       "</tr>\n",
       "<tr>\n",
       "  <th>totalTestResultsIncrease</th> <td>    0.0200</td> <td>    0.005</td> <td>    4.204</td> <td> 0.000</td> <td>    0.011</td> <td>    0.029</td>\n",
       "</tr>\n",
       "<tr>\n",
       "  <th>ar.L1.D.positive</th>         <td>    0.9780</td> <td>    0.019</td> <td>   50.496</td> <td> 0.000</td> <td>    0.940</td> <td>    1.016</td>\n",
       "</tr>\n",
       "<tr>\n",
       "  <th>ma.L1.D.positive</th>         <td>    0.0706</td> <td>    0.095</td> <td>    0.745</td> <td> 0.457</td> <td>   -0.115</td> <td>    0.256</td>\n",
       "</tr>\n",
       "</table>\n",
       "<table class=\"simpletable\">\n",
       "<caption>Roots</caption>\n",
       "<tr>\n",
       "    <td></td>   <th>            Real</th>  <th>         Imaginary</th> <th>         Modulus</th>  <th>        Frequency</th>\n",
       "</tr>\n",
       "<tr>\n",
       "  <th>AR.1</th> <td>           1.0225</td> <td>          +0.0000j</td> <td>           1.0225</td> <td>           0.0000</td>\n",
       "</tr>\n",
       "<tr>\n",
       "  <th>MA.1</th> <td>         -14.1617</td> <td>          +0.0000j</td> <td>          14.1617</td> <td>           0.5000</td>\n",
       "</tr>\n",
       "</table>"
      ],
      "text/plain": [
       "<class 'statsmodels.iolib.summary.Summary'>\n",
       "\"\"\"\n",
       "                             ARIMA Model Results                              \n",
       "==============================================================================\n",
       "Dep. Variable:             D.positive   No. Observations:                  147\n",
       "Model:                 ARIMA(1, 1, 1)   Log Likelihood               -1331.383\n",
       "Method:                       css-mle   S.D. of innovations           2052.785\n",
       "Date:                Mon, 27 Jul 2020   AIC                           2672.766\n",
       "Time:                        01:24:02   BIC                           2687.718\n",
       "Sample:                    01-23-2020   HQIC                          2678.841\n",
       "                         - 06-17-2020                                         \n",
       "============================================================================================\n",
       "                               coef    std err          z      P>|z|      [0.025      0.975]\n",
       "--------------------------------------------------------------------------------------------\n",
       "const                     6184.8158   8704.390      0.711      0.479   -1.09e+04    2.32e+04\n",
       "totalTestResultsIncrease     0.0200      0.005      4.204      0.000       0.011       0.029\n",
       "ar.L1.D.positive             0.9780      0.019     50.496      0.000       0.940       1.016\n",
       "ma.L1.D.positive             0.0706      0.095      0.745      0.457      -0.115       0.256\n",
       "                                    Roots                                    \n",
       "=============================================================================\n",
       "                  Real          Imaginary           Modulus         Frequency\n",
       "-----------------------------------------------------------------------------\n",
       "AR.1            1.0225           +0.0000j            1.0225            0.0000\n",
       "MA.1          -14.1617           +0.0000j           14.1617            0.5000\n",
       "-----------------------------------------------------------------------------\n",
       "\"\"\""
      ]
     },
     "execution_count": 252,
     "metadata": {},
     "output_type": "execute_result"
    }
   ],
   "source": [
    "model_fit.summary()"
   ]
  },
  {
   "cell_type": "code",
   "execution_count": null,
   "metadata": {},
   "outputs": [],
   "source": []
  }
 ],
 "metadata": {
  "kernelspec": {
   "display_name": "Python 3",
   "language": "python",
   "name": "python3"
  },
  "language_info": {
   "codemirror_mode": {
    "name": "ipython",
    "version": 3
   },
   "file_extension": ".py",
   "mimetype": "text/x-python",
   "name": "python",
   "nbconvert_exporter": "python",
   "pygments_lexer": "ipython3",
   "version": "3.6.5"
  }
 },
 "nbformat": 4,
 "nbformat_minor": 2
}
